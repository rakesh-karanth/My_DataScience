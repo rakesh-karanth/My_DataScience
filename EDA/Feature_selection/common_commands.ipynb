{
 "cells": [
  {
   "cell_type": "markdown",
   "metadata": {},
   "source": [
    "# Importing libraries\n",
    "\n",
    "import pandas as pd \n",
    "\n",
    "import numpy as np \n",
    "\n",
    "import matplotlib.pyplot as plt \n",
    "\n",
    "import seaborn as sns \n",
    "\n",
    "import warnings \n",
    "\n",
    "warnings.filterwarnings(action='ignore') "
   ]
  },
  {
   "cell_type": "markdown",
   "metadata": {},
   "source": [
    "# Reading data from csv\n",
    "df = pd.read_csv('name.csv')\n",
    "\n",
    "df=pd.read_csv('name.csv',usecols=['Age','Fare','Survived'])\n",
    "\n",
    "df.head()\n"
   ]
  },
  {
   "cell_type": "markdown",
   "metadata": {},
   "source": [
    "df.columns"
   ]
  },
  {
   "cell_type": "markdown",
   "metadata": {},
   "source": [
    "df.shape"
   ]
  },
  {
   "cell_type": "markdown",
   "metadata": {},
   "source": [
    "# To know types values present in a column\n",
    "df.col_name.unique()"
   ]
  },
  {
   "cell_type": "markdown",
   "metadata": {},
   "source": [
    "# To know total number of missing values\n",
    "df.isnull().sum()\n",
    "# % of missing values\n",
    "round(df.isnull().sum()/df.shape[0]*100, 2)"
   ]
  },
  {
   "cell_type": "markdown",
   "metadata": {},
   "source": [
    "# To select numerical features\n",
    "numeric_feature = df.select_dtypes(include = np.number).columns"
   ]
  },
  {
   "cell_type": "markdown",
   "metadata": {},
   "source": [
    "# To select categorical features\n",
    "categorical_feature = df.select_dtypes(inlcude = np.object).columns"
   ]
  },
  {
   "cell_type": "markdown",
   "metadata": {},
   "source": [
    "### Also look :\n",
    " categorical_feature = df.drop('col_name', axis = 1).select_dtypes(inlcude = np.object).columns   "
   ]
  },
  {
   "cell_type": "markdown",
   "metadata": {},
   "source": [
    "# To know the % of each values in categorical variable\n",
    "df['col_name'].value_counts()/len(df)"
   ]
  },
  {
   "cell_type": "markdown",
   "metadata": {},
   "source": [
    "# dropping col\n",
    "df.drop(['col1', 'col2', 'coln'], axis =1, inplace = True)"
   ]
  },
  {
   "cell_type": "markdown",
   "metadata": {},
   "source": [
    "# Correlation check\n",
    "plt.figure(figsize = (10,10))\n",
    "sns.heatmap(df[numerical_featute].corr())\n",
    "\n",
    "#also add below after corr(),\n",
    "annot = True #prints values of correleation\n",
    "fmt='.1g' #print 1 digit after decimal. change it to 2g, 3g\n",
    "cmap= 'coolwarm' # for colors\n",
    "\n",
    "#refer - https://heartbeat.fritz.ai/seaborn-heatmaps-13-ways-to-customize-correlation-matrix-visualizations-f1c49c816f07"
   ]
  },
  {
   "cell_type": "markdown",
   "metadata": {},
   "source": [
    "# Plottings"
   ]
  },
  {
   "cell_type": "markdown",
   "metadata": {},
   "source": [
    "# To plot graphs for multiple features of numerical type\n",
    "df[numeric_feature].hist(figsize=(15,20))\n",
    "\n",
    "plt.show()"
   ]
  },
  {
   "cell_type": "markdown",
   "metadata": {},
   "source": [
    "# To plot graphs for single features of categorical type\n",
    "var = 'col_name'\n",
    "\n",
    "sns.countplot(var, data = df)\n",
    "\n",
    "#plotting (counting) wrt another feature\n",
    "\n",
    "var = 'col_name'\n",
    "\n",
    "sns.countplot(var, data = df, hue ='col_name2')"
   ]
  },
  {
   "cell_type": "markdown",
   "metadata": {},
   "source": [
    "# Seaborn bar plot\n",
    "sns.barplot(x = 'col1', y= 'col2', data = df)"
   ]
  },
  {
   "cell_type": "markdown",
   "metadata": {},
   "source": [
    "# To plot graphs for multiple features of categorical type\n",
    "for each in categorical_feature:\n",
    "\n",
    "    sns.countplot(each, data = df)\n",
    "    \n",
    "    plt.show()"
   ]
  },
  {
   "cell_type": "markdown",
   "metadata": {},
   "source": [
    "## Seaborn plots with styles\n",
    "\n",
    "sns.set(style=\"darkgrid\")\n",
    "\n",
    "sns.countplot( x='col_name', data=df, hue=\"col_name\", palette=\"Set1\");"
   ]
  },
  {
   "cell_type": "markdown",
   "metadata": {},
   "source": [
    "## Scatter plot\n",
    "plt.scatter(df['col_x_name'], df['col_y_name'])\n",
    "\n",
    "plt.xlabel('give name eg: exp')\n",
    "\n",
    "plt.ylabel('give name eg: sal')\n",
    "\n",
    "plt.show()"
   ]
  },
  {
   "cell_type": "markdown",
   "metadata": {},
   "source": [
    "sns.pairplot(df[numerical_features]) "
   ]
  },
  {
   "cell_type": "code",
   "execution_count": null,
   "metadata": {},
   "outputs": [],
   "source": [
    "# Display duplicate rows.\n",
    "df.duplicated().sum() # duplicate count at record level\n",
    "\n",
    "df.duplicated(subset=['col1','col2',' coln']).sum()\n",
    "df[df.duplicated(subset=['name','category_list',' market '])].head()"
   ]
  },
  {
   "cell_type": "code",
   "execution_count": null,
   "metadata": {},
   "outputs": [],
   "source": [
    "# To display content for a particular col with contents\n",
    "df[(df['col1'] == 'value_in_that_col')]"
   ]
  },
  {
   "cell_type": "code",
   "execution_count": null,
   "metadata": {},
   "outputs": [],
   "source": [
    "#Dropping duplicates\n",
    "df.drop_duplicates().shape"
   ]
  },
  {
   "cell_type": "markdown",
   "metadata": {},
   "source": [
    "# Group by\n",
    "\n",
    "#Find count of companies in each of the market.\n",
    "\n",
    "df.groupby(' market ')['name'].count()\n"
   ]
  },
  {
   "cell_type": "markdown",
   "metadata": {},
   "source": [
    "# Renaming col\n",
    "\n",
    "# Rename ' market ' to 'market'\n",
    "df.rename(columns = {' market ':'market'}, inplace = True)\n",
    "\n",
    "df.columns"
   ]
  },
  {
   "cell_type": "code",
   "execution_count": null,
   "metadata": {},
   "outputs": [],
   "source": []
  },
  {
   "cell_type": "code",
   "execution_count": null,
   "metadata": {},
   "outputs": [],
   "source": []
  }
 ],
 "metadata": {
  "kernelspec": {
   "display_name": "Python 3",
   "language": "python",
   "name": "python3"
  },
  "language_info": {
   "codemirror_mode": {
    "name": "ipython",
    "version": 3
   },
   "file_extension": ".py",
   "mimetype": "text/x-python",
   "name": "python",
   "nbconvert_exporter": "python",
   "pygments_lexer": "ipython3",
   "version": "3.8.3"
  }
 },
 "nbformat": 4,
 "nbformat_minor": 4
}
