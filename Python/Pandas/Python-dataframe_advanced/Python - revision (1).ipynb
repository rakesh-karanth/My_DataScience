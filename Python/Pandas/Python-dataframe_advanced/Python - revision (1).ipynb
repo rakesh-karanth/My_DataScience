{
 "cells": [
  {
   "cell_type": "code",
   "execution_count": 1,
   "metadata": {},
   "outputs": [],
   "source": [
    "## import required packages\n",
    "import pandas as pd\n",
    "import numpy as np\n",
    "import matplotlib.pyplot as plt"
   ]
  },
  {
   "cell_type": "markdown",
   "metadata": {},
   "source": [
    "    # 1.\tRead the given comma separated file as dataframe.\n",
    "    # 2.\tList out all columns names.\n",
    "    # 3.\tCreate a dataframe with numerical columns.\n",
    "    # 4.\tCreate a dataframe with categorical columns.\n",
    "    # 5.\tGet summary on the data and draw inferences if any.\n",
    "    # 6.\tDisplay duplicate rows.\n",
    "    # 7.\tFor each column find out percentage of missing values.\n",
    "    # 8.\tFind count of ‘name’ in each ‘country_code’.\n",
    "    # 9.\tWhat is the percentage of the companies which have status ‘acquired’ and ‘operating’?\n",
    "    # 10.\tCreate a column ‘category_list_count’ having count of category lists.\n",
    "    # 11.\tFind total ‘fundings’ for each country_code.\n",
    "    # 12.\tFind average ‘fundings’ for each country_code.\n",
    "    # 13.\tFind average ‘fundings’ in each region.\n",
    "    # 14.\tHow many companies have got just 1 round of funding?\n",
    "    # 15.\tHow many companies have ‘debt_financing’ above zero?\n",
    "    # 16.\tCreate a column ‘homepage’ to store company name from ‘homepage_url’: For example: If url is http://www.waywire.com, name is waywire.\n",
    "    # 17.\tFind count of companies in each of the market.\n",
    "    # 18.\tRename ' funding_total_usd ' to 'funding_total_usd'\n",
    "    # 19.\tFor each row in column ‘funding_total_usd’, calculate actual – average value for each group ‘city’\n",
    "    # 20.\tWhat is average ‘funding_Total_used’ for each city?\n",
    "    # 21.\tPlot histogram/distribution of ‘funding_total_usd’ and provide insights if any.\n",
    "    # 22.\tWhat is maximum ‘funding_total_usd’ for each market status?\n",
    "    # 23.\tHow many years it have been since each company was founded?\n",
    "    # 24.\tVisualize ‘grant’ distribution.\n",
    "    # 25.\tVisualize ‘debt_financing’ distribution.\n"
   ]
  },
  {
   "cell_type": "code",
   "execution_count": 2,
   "metadata": {},
   "outputs": [
    {
     "data": {
      "text/plain": [
       "(49438, 14)"
      ]
     },
     "execution_count": 2,
     "metadata": {},
     "output_type": "execute_result"
    }
   ],
   "source": [
    "# 1.Read the given comma separated file as dataframe.\n",
    "df = pd.read_csv('investments.csv', encoding = 'latin-1')\n",
    "df.shape"
   ]
  },
  {
   "cell_type": "code",
   "execution_count": 3,
   "metadata": {},
   "outputs": [
    {
     "data": {
      "text/html": [
       "<div>\n",
       "<style scoped>\n",
       "    .dataframe tbody tr th:only-of-type {\n",
       "        vertical-align: middle;\n",
       "    }\n",
       "\n",
       "    .dataframe tbody tr th {\n",
       "        vertical-align: top;\n",
       "    }\n",
       "\n",
       "    .dataframe thead th {\n",
       "        text-align: right;\n",
       "    }\n",
       "</style>\n",
       "<table border=\"1\" class=\"dataframe\">\n",
       "  <thead>\n",
       "    <tr style=\"text-align: right;\">\n",
       "      <th></th>\n",
       "      <th>name</th>\n",
       "      <th>homepage_url</th>\n",
       "      <th>category_list</th>\n",
       "      <th>market</th>\n",
       "      <th>funding_total_usd</th>\n",
       "      <th>status</th>\n",
       "      <th>country_code</th>\n",
       "      <th>state_code</th>\n",
       "      <th>region</th>\n",
       "      <th>city</th>\n",
       "      <th>funding_rounds</th>\n",
       "      <th>founded_year</th>\n",
       "      <th>debt_financing</th>\n",
       "      <th>grant</th>\n",
       "    </tr>\n",
       "  </thead>\n",
       "  <tbody>\n",
       "    <tr>\n",
       "      <th>0</th>\n",
       "      <td>#waywire</td>\n",
       "      <td>http://www.waywire.com</td>\n",
       "      <td>|Entertainment|Politics|Social Media|News|</td>\n",
       "      <td>News</td>\n",
       "      <td>17,50,000</td>\n",
       "      <td>acquired</td>\n",
       "      <td>USA</td>\n",
       "      <td>NY</td>\n",
       "      <td>New York City</td>\n",
       "      <td>New York</td>\n",
       "      <td>1</td>\n",
       "      <td>2012.0</td>\n",
       "      <td>0</td>\n",
       "      <td>0</td>\n",
       "    </tr>\n",
       "    <tr>\n",
       "      <th>1</th>\n",
       "      <td>&amp;TV Communications</td>\n",
       "      <td>http://enjoyandtv.com</td>\n",
       "      <td>|Games|</td>\n",
       "      <td>Games</td>\n",
       "      <td>40,00,000</td>\n",
       "      <td>operating</td>\n",
       "      <td>USA</td>\n",
       "      <td>CA</td>\n",
       "      <td>Los Angeles</td>\n",
       "      <td>Los Angeles</td>\n",
       "      <td>2</td>\n",
       "      <td>NaN</td>\n",
       "      <td>0</td>\n",
       "      <td>0</td>\n",
       "    </tr>\n",
       "    <tr>\n",
       "      <th>2</th>\n",
       "      <td>'Rock' Your Paper</td>\n",
       "      <td>http://www.rockyourpaper.org</td>\n",
       "      <td>|Publishing|Education|</td>\n",
       "      <td>Publishing</td>\n",
       "      <td>40,000</td>\n",
       "      <td>operating</td>\n",
       "      <td>EST</td>\n",
       "      <td>NaN</td>\n",
       "      <td>Tallinn</td>\n",
       "      <td>Tallinn</td>\n",
       "      <td>1</td>\n",
       "      <td>2012.0</td>\n",
       "      <td>0</td>\n",
       "      <td>0</td>\n",
       "    </tr>\n",
       "    <tr>\n",
       "      <th>3</th>\n",
       "      <td>(In)Touch Network</td>\n",
       "      <td>http://www.InTouchNetwork.com</td>\n",
       "      <td>|Electronics|Guides|Coffee|Restaurants|Music|i...</td>\n",
       "      <td>Electronics</td>\n",
       "      <td>15,00,000</td>\n",
       "      <td>operating</td>\n",
       "      <td>GBR</td>\n",
       "      <td>NaN</td>\n",
       "      <td>London</td>\n",
       "      <td>London</td>\n",
       "      <td>1</td>\n",
       "      <td>2011.0</td>\n",
       "      <td>0</td>\n",
       "      <td>0</td>\n",
       "    </tr>\n",
       "    <tr>\n",
       "      <th>4</th>\n",
       "      <td>-R- Ranch and Mine</td>\n",
       "      <td>NaN</td>\n",
       "      <td>|Tourism|Entertainment|Games|</td>\n",
       "      <td>Tourism</td>\n",
       "      <td>60,000</td>\n",
       "      <td>operating</td>\n",
       "      <td>USA</td>\n",
       "      <td>TX</td>\n",
       "      <td>Dallas</td>\n",
       "      <td>Fort Worth</td>\n",
       "      <td>2</td>\n",
       "      <td>2014.0</td>\n",
       "      <td>0</td>\n",
       "      <td>0</td>\n",
       "    </tr>\n",
       "  </tbody>\n",
       "</table>\n",
       "</div>"
      ],
      "text/plain": [
       "                 name                   homepage_url  \\\n",
       "0            #waywire         http://www.waywire.com   \n",
       "1  &TV Communications          http://enjoyandtv.com   \n",
       "2   'Rock' Your Paper   http://www.rockyourpaper.org   \n",
       "3   (In)Touch Network  http://www.InTouchNetwork.com   \n",
       "4  -R- Ranch and Mine                            NaN   \n",
       "\n",
       "                                       category_list        market   \\\n",
       "0         |Entertainment|Politics|Social Media|News|          News    \n",
       "1                                            |Games|         Games    \n",
       "2                             |Publishing|Education|    Publishing    \n",
       "3  |Electronics|Guides|Coffee|Restaurants|Music|i...   Electronics    \n",
       "4                      |Tourism|Entertainment|Games|       Tourism    \n",
       "\n",
       "   funding_total_usd      status country_code state_code         region  \\\n",
       "0           17,50,000   acquired          USA         NY  New York City   \n",
       "1           40,00,000  operating          USA         CA    Los Angeles   \n",
       "2              40,000  operating          EST        NaN        Tallinn   \n",
       "3           15,00,000  operating          GBR        NaN         London   \n",
       "4              60,000  operating          USA         TX         Dallas   \n",
       "\n",
       "          city  funding_rounds  founded_year  debt_financing  grant  \n",
       "0     New York               1        2012.0               0      0  \n",
       "1  Los Angeles               2           NaN               0      0  \n",
       "2      Tallinn               1        2012.0               0      0  \n",
       "3       London               1        2011.0               0      0  \n",
       "4   Fort Worth               2        2014.0               0      0  "
      ]
     },
     "execution_count": 3,
     "metadata": {},
     "output_type": "execute_result"
    }
   ],
   "source": [
    "df.head()"
   ]
  },
  {
   "cell_type": "code",
   "execution_count": 4,
   "metadata": {},
   "outputs": [
    {
     "data": {
      "text/plain": [
       "Index(['name', 'homepage_url', 'category_list', ' market ',\n",
       "       ' funding_total_usd ', 'status', 'country_code', 'state_code', 'region',\n",
       "       'city', 'funding_rounds', 'founded_year', 'debt_financing', 'grant'],\n",
       "      dtype='object')"
      ]
     },
     "execution_count": 4,
     "metadata": {},
     "output_type": "execute_result"
    }
   ],
   "source": [
    "# 2.List out all columns names.\n",
    "df.columns"
   ]
  },
  {
   "cell_type": "code",
   "execution_count": 5,
   "metadata": {},
   "outputs": [
    {
     "data": {
      "text/html": [
       "<div>\n",
       "<style scoped>\n",
       "    .dataframe tbody tr th:only-of-type {\n",
       "        vertical-align: middle;\n",
       "    }\n",
       "\n",
       "    .dataframe tbody tr th {\n",
       "        vertical-align: top;\n",
       "    }\n",
       "\n",
       "    .dataframe thead th {\n",
       "        text-align: right;\n",
       "    }\n",
       "</style>\n",
       "<table border=\"1\" class=\"dataframe\">\n",
       "  <thead>\n",
       "    <tr style=\"text-align: right;\">\n",
       "      <th></th>\n",
       "      <th>funding_rounds</th>\n",
       "      <th>founded_year</th>\n",
       "      <th>debt_financing</th>\n",
       "      <th>grant</th>\n",
       "    </tr>\n",
       "  </thead>\n",
       "  <tbody>\n",
       "    <tr>\n",
       "      <th>0</th>\n",
       "      <td>1</td>\n",
       "      <td>2012.0</td>\n",
       "      <td>0</td>\n",
       "      <td>0</td>\n",
       "    </tr>\n",
       "    <tr>\n",
       "      <th>1</th>\n",
       "      <td>2</td>\n",
       "      <td>NaN</td>\n",
       "      <td>0</td>\n",
       "      <td>0</td>\n",
       "    </tr>\n",
       "    <tr>\n",
       "      <th>2</th>\n",
       "      <td>1</td>\n",
       "      <td>2012.0</td>\n",
       "      <td>0</td>\n",
       "      <td>0</td>\n",
       "    </tr>\n",
       "    <tr>\n",
       "      <th>3</th>\n",
       "      <td>1</td>\n",
       "      <td>2011.0</td>\n",
       "      <td>0</td>\n",
       "      <td>0</td>\n",
       "    </tr>\n",
       "    <tr>\n",
       "      <th>4</th>\n",
       "      <td>2</td>\n",
       "      <td>2014.0</td>\n",
       "      <td>0</td>\n",
       "      <td>0</td>\n",
       "    </tr>\n",
       "  </tbody>\n",
       "</table>\n",
       "</div>"
      ],
      "text/plain": [
       "   funding_rounds  founded_year  debt_financing  grant\n",
       "0               1        2012.0               0      0\n",
       "1               2           NaN               0      0\n",
       "2               1        2012.0               0      0\n",
       "3               1        2011.0               0      0\n",
       "4               2        2014.0               0      0"
      ]
     },
     "execution_count": 5,
     "metadata": {},
     "output_type": "execute_result"
    }
   ],
   "source": [
    "# 3.Create a dataframe with numerical columns.\n",
    "df2 = df.select_dtypes(include=[np.number])\n",
    "df2.head()"
   ]
  },
  {
   "cell_type": "code",
   "execution_count": 6,
   "metadata": {},
   "outputs": [
    {
     "data": {
      "text/html": [
       "<div>\n",
       "<style scoped>\n",
       "    .dataframe tbody tr th:only-of-type {\n",
       "        vertical-align: middle;\n",
       "    }\n",
       "\n",
       "    .dataframe tbody tr th {\n",
       "        vertical-align: top;\n",
       "    }\n",
       "\n",
       "    .dataframe thead th {\n",
       "        text-align: right;\n",
       "    }\n",
       "</style>\n",
       "<table border=\"1\" class=\"dataframe\">\n",
       "  <thead>\n",
       "    <tr style=\"text-align: right;\">\n",
       "      <th></th>\n",
       "      <th>name</th>\n",
       "      <th>homepage_url</th>\n",
       "      <th>category_list</th>\n",
       "      <th>market</th>\n",
       "      <th>funding_total_usd</th>\n",
       "      <th>status</th>\n",
       "      <th>country_code</th>\n",
       "      <th>state_code</th>\n",
       "      <th>region</th>\n",
       "      <th>city</th>\n",
       "    </tr>\n",
       "  </thead>\n",
       "  <tbody>\n",
       "    <tr>\n",
       "      <th>0</th>\n",
       "      <td>#waywire</td>\n",
       "      <td>http://www.waywire.com</td>\n",
       "      <td>|Entertainment|Politics|Social Media|News|</td>\n",
       "      <td>News</td>\n",
       "      <td>17,50,000</td>\n",
       "      <td>acquired</td>\n",
       "      <td>USA</td>\n",
       "      <td>NY</td>\n",
       "      <td>New York City</td>\n",
       "      <td>New York</td>\n",
       "    </tr>\n",
       "    <tr>\n",
       "      <th>1</th>\n",
       "      <td>&amp;TV Communications</td>\n",
       "      <td>http://enjoyandtv.com</td>\n",
       "      <td>|Games|</td>\n",
       "      <td>Games</td>\n",
       "      <td>40,00,000</td>\n",
       "      <td>operating</td>\n",
       "      <td>USA</td>\n",
       "      <td>CA</td>\n",
       "      <td>Los Angeles</td>\n",
       "      <td>Los Angeles</td>\n",
       "    </tr>\n",
       "    <tr>\n",
       "      <th>2</th>\n",
       "      <td>'Rock' Your Paper</td>\n",
       "      <td>http://www.rockyourpaper.org</td>\n",
       "      <td>|Publishing|Education|</td>\n",
       "      <td>Publishing</td>\n",
       "      <td>40,000</td>\n",
       "      <td>operating</td>\n",
       "      <td>EST</td>\n",
       "      <td>NaN</td>\n",
       "      <td>Tallinn</td>\n",
       "      <td>Tallinn</td>\n",
       "    </tr>\n",
       "    <tr>\n",
       "      <th>3</th>\n",
       "      <td>(In)Touch Network</td>\n",
       "      <td>http://www.InTouchNetwork.com</td>\n",
       "      <td>|Electronics|Guides|Coffee|Restaurants|Music|i...</td>\n",
       "      <td>Electronics</td>\n",
       "      <td>15,00,000</td>\n",
       "      <td>operating</td>\n",
       "      <td>GBR</td>\n",
       "      <td>NaN</td>\n",
       "      <td>London</td>\n",
       "      <td>London</td>\n",
       "    </tr>\n",
       "    <tr>\n",
       "      <th>4</th>\n",
       "      <td>-R- Ranch and Mine</td>\n",
       "      <td>NaN</td>\n",
       "      <td>|Tourism|Entertainment|Games|</td>\n",
       "      <td>Tourism</td>\n",
       "      <td>60,000</td>\n",
       "      <td>operating</td>\n",
       "      <td>USA</td>\n",
       "      <td>TX</td>\n",
       "      <td>Dallas</td>\n",
       "      <td>Fort Worth</td>\n",
       "    </tr>\n",
       "  </tbody>\n",
       "</table>\n",
       "</div>"
      ],
      "text/plain": [
       "                 name                   homepage_url  \\\n",
       "0            #waywire         http://www.waywire.com   \n",
       "1  &TV Communications          http://enjoyandtv.com   \n",
       "2   'Rock' Your Paper   http://www.rockyourpaper.org   \n",
       "3   (In)Touch Network  http://www.InTouchNetwork.com   \n",
       "4  -R- Ranch and Mine                            NaN   \n",
       "\n",
       "                                       category_list        market   \\\n",
       "0         |Entertainment|Politics|Social Media|News|          News    \n",
       "1                                            |Games|         Games    \n",
       "2                             |Publishing|Education|    Publishing    \n",
       "3  |Electronics|Guides|Coffee|Restaurants|Music|i...   Electronics    \n",
       "4                      |Tourism|Entertainment|Games|       Tourism    \n",
       "\n",
       "   funding_total_usd      status country_code state_code         region  \\\n",
       "0           17,50,000   acquired          USA         NY  New York City   \n",
       "1           40,00,000  operating          USA         CA    Los Angeles   \n",
       "2              40,000  operating          EST        NaN        Tallinn   \n",
       "3           15,00,000  operating          GBR        NaN         London   \n",
       "4              60,000  operating          USA         TX         Dallas   \n",
       "\n",
       "          city  \n",
       "0     New York  \n",
       "1  Los Angeles  \n",
       "2      Tallinn  \n",
       "3       London  \n",
       "4   Fort Worth  "
      ]
     },
     "execution_count": 6,
     "metadata": {},
     "output_type": "execute_result"
    }
   ],
   "source": [
    "# 4.Create a dataframe with categorical columns.\n",
    "df2 = df.select_dtypes(include=[np.object])\n",
    "df2.head()"
   ]
  },
  {
   "cell_type": "code",
   "execution_count": 7,
   "metadata": {},
   "outputs": [
    {
     "data": {
      "text/html": [
       "<div>\n",
       "<style scoped>\n",
       "    .dataframe tbody tr th:only-of-type {\n",
       "        vertical-align: middle;\n",
       "    }\n",
       "\n",
       "    .dataframe tbody tr th {\n",
       "        vertical-align: top;\n",
       "    }\n",
       "\n",
       "    .dataframe thead th {\n",
       "        text-align: right;\n",
       "    }\n",
       "</style>\n",
       "<table border=\"1\" class=\"dataframe\">\n",
       "  <thead>\n",
       "    <tr style=\"text-align: right;\">\n",
       "      <th></th>\n",
       "      <th>funding_rounds</th>\n",
       "      <th>founded_year</th>\n",
       "      <th>debt_financing</th>\n",
       "      <th>grant</th>\n",
       "    </tr>\n",
       "  </thead>\n",
       "  <tbody>\n",
       "    <tr>\n",
       "      <th>count</th>\n",
       "      <td>49438.000000</td>\n",
       "      <td>38482.000000</td>\n",
       "      <td>4.943800e+04</td>\n",
       "      <td>4.943800e+04</td>\n",
       "    </tr>\n",
       "    <tr>\n",
       "      <th>mean</th>\n",
       "      <td>1.696205</td>\n",
       "      <td>2007.359129</td>\n",
       "      <td>1.888157e+06</td>\n",
       "      <td>1.628453e+05</td>\n",
       "    </tr>\n",
       "    <tr>\n",
       "      <th>std</th>\n",
       "      <td>1.294213</td>\n",
       "      <td>7.579203</td>\n",
       "      <td>1.382046e+08</td>\n",
       "      <td>5.612088e+06</td>\n",
       "    </tr>\n",
       "    <tr>\n",
       "      <th>min</th>\n",
       "      <td>1.000000</td>\n",
       "      <td>1902.000000</td>\n",
       "      <td>0.000000e+00</td>\n",
       "      <td>0.000000e+00</td>\n",
       "    </tr>\n",
       "    <tr>\n",
       "      <th>25%</th>\n",
       "      <td>1.000000</td>\n",
       "      <td>2006.000000</td>\n",
       "      <td>0.000000e+00</td>\n",
       "      <td>0.000000e+00</td>\n",
       "    </tr>\n",
       "    <tr>\n",
       "      <th>50%</th>\n",
       "      <td>1.000000</td>\n",
       "      <td>2010.000000</td>\n",
       "      <td>0.000000e+00</td>\n",
       "      <td>0.000000e+00</td>\n",
       "    </tr>\n",
       "    <tr>\n",
       "      <th>75%</th>\n",
       "      <td>2.000000</td>\n",
       "      <td>2012.000000</td>\n",
       "      <td>0.000000e+00</td>\n",
       "      <td>0.000000e+00</td>\n",
       "    </tr>\n",
       "    <tr>\n",
       "      <th>max</th>\n",
       "      <td>18.000000</td>\n",
       "      <td>2014.000000</td>\n",
       "      <td>3.007950e+10</td>\n",
       "      <td>7.505000e+08</td>\n",
       "    </tr>\n",
       "  </tbody>\n",
       "</table>\n",
       "</div>"
      ],
      "text/plain": [
       "       funding_rounds  founded_year  debt_financing         grant\n",
       "count    49438.000000  38482.000000    4.943800e+04  4.943800e+04\n",
       "mean         1.696205   2007.359129    1.888157e+06  1.628453e+05\n",
       "std          1.294213      7.579203    1.382046e+08  5.612088e+06\n",
       "min          1.000000   1902.000000    0.000000e+00  0.000000e+00\n",
       "25%          1.000000   2006.000000    0.000000e+00  0.000000e+00\n",
       "50%          1.000000   2010.000000    0.000000e+00  0.000000e+00\n",
       "75%          2.000000   2012.000000    0.000000e+00  0.000000e+00\n",
       "max         18.000000   2014.000000    3.007950e+10  7.505000e+08"
      ]
     },
     "execution_count": 7,
     "metadata": {},
     "output_type": "execute_result"
    }
   ],
   "source": [
    "# 5.Get summary on the data and draw inferences if any.\n",
    "df.describe()"
   ]
  },
  {
   "cell_type": "code",
   "execution_count": 8,
   "metadata": {},
   "outputs": [
    {
     "data": {
      "text/plain": [
       "0"
      ]
     },
     "execution_count": 8,
     "metadata": {},
     "output_type": "execute_result"
    }
   ],
   "source": [
    "# 6.Display duplicate rows.\n",
    "df.duplicated().sum() # duplicate count at record level"
   ]
  },
  {
   "cell_type": "code",
   "execution_count": 9,
   "metadata": {},
   "outputs": [
    {
     "data": {
      "text/plain": [
       "3"
      ]
     },
     "execution_count": 9,
     "metadata": {},
     "output_type": "execute_result"
    }
   ],
   "source": [
    "df.duplicated(subset=['name','category_list',' market ']).sum() # duplicate count at name, category_list, market level"
   ]
  },
  {
   "cell_type": "code",
   "execution_count": 10,
   "metadata": {},
   "outputs": [
    {
     "data": {
      "text/html": [
       "<div>\n",
       "<style scoped>\n",
       "    .dataframe tbody tr th:only-of-type {\n",
       "        vertical-align: middle;\n",
       "    }\n",
       "\n",
       "    .dataframe tbody tr th {\n",
       "        vertical-align: top;\n",
       "    }\n",
       "\n",
       "    .dataframe thead th {\n",
       "        text-align: right;\n",
       "    }\n",
       "</style>\n",
       "<table border=\"1\" class=\"dataframe\">\n",
       "  <thead>\n",
       "    <tr style=\"text-align: right;\">\n",
       "      <th></th>\n",
       "      <th>name</th>\n",
       "      <th>homepage_url</th>\n",
       "      <th>category_list</th>\n",
       "      <th>market</th>\n",
       "      <th>funding_total_usd</th>\n",
       "      <th>status</th>\n",
       "      <th>country_code</th>\n",
       "      <th>state_code</th>\n",
       "      <th>region</th>\n",
       "      <th>city</th>\n",
       "      <th>funding_rounds</th>\n",
       "      <th>founded_year</th>\n",
       "      <th>debt_financing</th>\n",
       "      <th>grant</th>\n",
       "    </tr>\n",
       "  </thead>\n",
       "  <tbody>\n",
       "    <tr>\n",
       "      <th>4150</th>\n",
       "      <td>AYOXXA Biosystems</td>\n",
       "      <td>http://www.ayoxxa.com/</td>\n",
       "      <td>|Biotechnology|</td>\n",
       "      <td>Biotechnology</td>\n",
       "      <td>1,40,81,347</td>\n",
       "      <td>operating</td>\n",
       "      <td>DEU</td>\n",
       "      <td>NaN</td>\n",
       "      <td>Cologne</td>\n",
       "      <td>Köln</td>\n",
       "      <td>1</td>\n",
       "      <td>2010.0</td>\n",
       "      <td>0</td>\n",
       "      <td>0</td>\n",
       "    </tr>\n",
       "    <tr>\n",
       "      <th>24028</th>\n",
       "      <td>Lightex Ltd.</td>\n",
       "      <td>NaN</td>\n",
       "      <td>NaN</td>\n",
       "      <td>NaN</td>\n",
       "      <td>5,00,000</td>\n",
       "      <td>operating</td>\n",
       "      <td>NaN</td>\n",
       "      <td>NaN</td>\n",
       "      <td>NaN</td>\n",
       "      <td>NaN</td>\n",
       "      <td>1</td>\n",
       "      <td>NaN</td>\n",
       "      <td>0</td>\n",
       "      <td>0</td>\n",
       "    </tr>\n",
       "    <tr>\n",
       "      <th>36084</th>\n",
       "      <td>Roadmap</td>\n",
       "      <td>NaN</td>\n",
       "      <td>NaN</td>\n",
       "      <td>NaN</td>\n",
       "      <td>-</td>\n",
       "      <td>operating</td>\n",
       "      <td>USA</td>\n",
       "      <td>NC</td>\n",
       "      <td>Charlotte</td>\n",
       "      <td>Charlotte</td>\n",
       "      <td>1</td>\n",
       "      <td>2011.0</td>\n",
       "      <td>0</td>\n",
       "      <td>0</td>\n",
       "    </tr>\n",
       "  </tbody>\n",
       "</table>\n",
       "</div>"
      ],
      "text/plain": [
       "                    name            homepage_url    category_list  \\\n",
       "4150   AYOXXA Biosystems  http://www.ayoxxa.com/  |Biotechnology|   \n",
       "24028       Lightex Ltd.                     NaN              NaN   \n",
       "36084            Roadmap                     NaN              NaN   \n",
       "\n",
       "               market   funding_total_usd      status country_code state_code  \\\n",
       "4150    Biotechnology          1,40,81,347  operating          DEU        NaN   \n",
       "24028              NaN            5,00,000  operating          NaN        NaN   \n",
       "36084              NaN                -     operating          USA         NC   \n",
       "\n",
       "          region       city  funding_rounds  founded_year  debt_financing  \\\n",
       "4150     Cologne       Köln               1        2010.0               0   \n",
       "24028        NaN        NaN               1           NaN               0   \n",
       "36084  Charlotte  Charlotte               1        2011.0               0   \n",
       "\n",
       "       grant  \n",
       "4150       0  \n",
       "24028      0  \n",
       "36084      0  "
      ]
     },
     "execution_count": 10,
     "metadata": {},
     "output_type": "execute_result"
    }
   ],
   "source": [
    "df[df.duplicated(subset=['name','category_list',' market '])].head()"
   ]
  },
  {
   "cell_type": "code",
   "execution_count": 11,
   "metadata": {},
   "outputs": [],
   "source": [
    "# df[(df['name'] == 'AYOXXA Biosystems') & (df.category_list==str('|Biotechnology|')) & (df[' market ']=='Biotechnology')]"
   ]
  },
  {
   "cell_type": "code",
   "execution_count": 12,
   "metadata": {},
   "outputs": [
    {
     "data": {
      "text/html": [
       "<div>\n",
       "<style scoped>\n",
       "    .dataframe tbody tr th:only-of-type {\n",
       "        vertical-align: middle;\n",
       "    }\n",
       "\n",
       "    .dataframe tbody tr th {\n",
       "        vertical-align: top;\n",
       "    }\n",
       "\n",
       "    .dataframe thead th {\n",
       "        text-align: right;\n",
       "    }\n",
       "</style>\n",
       "<table border=\"1\" class=\"dataframe\">\n",
       "  <thead>\n",
       "    <tr style=\"text-align: right;\">\n",
       "      <th></th>\n",
       "      <th>name</th>\n",
       "      <th>homepage_url</th>\n",
       "      <th>category_list</th>\n",
       "      <th>market</th>\n",
       "      <th>funding_total_usd</th>\n",
       "      <th>status</th>\n",
       "      <th>country_code</th>\n",
       "      <th>state_code</th>\n",
       "      <th>region</th>\n",
       "      <th>city</th>\n",
       "      <th>funding_rounds</th>\n",
       "      <th>founded_year</th>\n",
       "      <th>debt_financing</th>\n",
       "      <th>grant</th>\n",
       "    </tr>\n",
       "  </thead>\n",
       "  <tbody>\n",
       "    <tr>\n",
       "      <th>36083</th>\n",
       "      <td>Roadmap</td>\n",
       "      <td>http://www.roadmapsystems.co.uk/</td>\n",
       "      <td>NaN</td>\n",
       "      <td>NaN</td>\n",
       "      <td>-</td>\n",
       "      <td>operating</td>\n",
       "      <td>GBR</td>\n",
       "      <td>NaN</td>\n",
       "      <td>London</td>\n",
       "      <td>Cambridge</td>\n",
       "      <td>1</td>\n",
       "      <td>NaN</td>\n",
       "      <td>0</td>\n",
       "      <td>0</td>\n",
       "    </tr>\n",
       "    <tr>\n",
       "      <th>36084</th>\n",
       "      <td>Roadmap</td>\n",
       "      <td>NaN</td>\n",
       "      <td>NaN</td>\n",
       "      <td>NaN</td>\n",
       "      <td>-</td>\n",
       "      <td>operating</td>\n",
       "      <td>USA</td>\n",
       "      <td>NC</td>\n",
       "      <td>Charlotte</td>\n",
       "      <td>Charlotte</td>\n",
       "      <td>1</td>\n",
       "      <td>2011.0</td>\n",
       "      <td>0</td>\n",
       "      <td>0</td>\n",
       "    </tr>\n",
       "    <tr>\n",
       "      <th>36085</th>\n",
       "      <td>Roadmap</td>\n",
       "      <td>http://www.ppmroadmap.com</td>\n",
       "      <td>|Enterprise Resource Planning|Project Manageme...</td>\n",
       "      <td>Productivity Software</td>\n",
       "      <td>1,50,000</td>\n",
       "      <td>operating</td>\n",
       "      <td>USA</td>\n",
       "      <td>MD</td>\n",
       "      <td>Baltimore</td>\n",
       "      <td>Baltimore</td>\n",
       "      <td>1</td>\n",
       "      <td>2012.0</td>\n",
       "      <td>0</td>\n",
       "      <td>0</td>\n",
       "    </tr>\n",
       "  </tbody>\n",
       "</table>\n",
       "</div>"
      ],
      "text/plain": [
       "          name                      homepage_url  \\\n",
       "36083  Roadmap  http://www.roadmapsystems.co.uk/   \n",
       "36084  Roadmap                               NaN   \n",
       "36085  Roadmap         http://www.ppmroadmap.com   \n",
       "\n",
       "                                           category_list  \\\n",
       "36083                                                NaN   \n",
       "36084                                                NaN   \n",
       "36085  |Enterprise Resource Planning|Project Manageme...   \n",
       "\n",
       "                       market   funding_total_usd      status country_code  \\\n",
       "36083                      NaN                -     operating          GBR   \n",
       "36084                      NaN                -     operating          USA   \n",
       "36085   Productivity Software             1,50,000  operating          USA   \n",
       "\n",
       "      state_code     region       city  funding_rounds  founded_year  \\\n",
       "36083        NaN     London  Cambridge               1           NaN   \n",
       "36084         NC  Charlotte  Charlotte               1        2011.0   \n",
       "36085         MD  Baltimore  Baltimore               1        2012.0   \n",
       "\n",
       "       debt_financing  grant  \n",
       "36083               0      0  \n",
       "36084               0      0  \n",
       "36085               0      0  "
      ]
     },
     "execution_count": 12,
     "metadata": {},
     "output_type": "execute_result"
    }
   ],
   "source": [
    "df[(df['name'] == 'Roadmap')]"
   ]
  },
  {
   "cell_type": "code",
   "execution_count": 13,
   "metadata": {},
   "outputs": [
    {
     "data": {
      "text/plain": [
       "(49438, 14)"
      ]
     },
     "execution_count": 13,
     "metadata": {},
     "output_type": "execute_result"
    }
   ],
   "source": [
    "df.drop_duplicates().shape"
   ]
  },
  {
   "cell_type": "code",
   "execution_count": 14,
   "metadata": {},
   "outputs": [
    {
     "data": {
      "text/plain": [
       "name                    0.00\n",
       "homepage_url            6.98\n",
       "category_list           8.01\n",
       " market                 8.03\n",
       " funding_total_usd      0.00\n",
       "status                  2.66\n",
       "country_code           10.67\n",
       "state_code             38.99\n",
       "region                 10.67\n",
       "city                   12.37\n",
       "funding_rounds          0.00\n",
       "founded_year           22.16\n",
       "debt_financing          0.00\n",
       "grant                   0.00\n",
       "dtype: float64"
      ]
     },
     "execution_count": 14,
     "metadata": {},
     "output_type": "execute_result"
    }
   ],
   "source": [
    "# 7.For each column find out percentage of missing values.\n",
    "round(df.isnull().sum()/df.shape[0]*100, 2)"
   ]
  },
  {
   "cell_type": "code",
   "execution_count": 15,
   "metadata": {},
   "outputs": [
    {
     "data": {
      "text/html": [
       "<div>\n",
       "<style scoped>\n",
       "    .dataframe tbody tr th:only-of-type {\n",
       "        vertical-align: middle;\n",
       "    }\n",
       "\n",
       "    .dataframe tbody tr th {\n",
       "        vertical-align: top;\n",
       "    }\n",
       "\n",
       "    .dataframe thead th {\n",
       "        text-align: right;\n",
       "    }\n",
       "</style>\n",
       "<table border=\"1\" class=\"dataframe\">\n",
       "  <thead>\n",
       "    <tr style=\"text-align: right;\">\n",
       "      <th></th>\n",
       "      <th>per_missing</th>\n",
       "    </tr>\n",
       "  </thead>\n",
       "  <tbody>\n",
       "    <tr>\n",
       "      <th>country_code</th>\n",
       "      <td>10.67</td>\n",
       "    </tr>\n",
       "    <tr>\n",
       "      <th>state_code</th>\n",
       "      <td>38.99</td>\n",
       "    </tr>\n",
       "    <tr>\n",
       "      <th>region</th>\n",
       "      <td>10.67</td>\n",
       "    </tr>\n",
       "    <tr>\n",
       "      <th>city</th>\n",
       "      <td>12.37</td>\n",
       "    </tr>\n",
       "    <tr>\n",
       "      <th>founded_year</th>\n",
       "      <td>22.16</td>\n",
       "    </tr>\n",
       "  </tbody>\n",
       "</table>\n",
       "</div>"
      ],
      "text/plain": [
       "              per_missing\n",
       "country_code        10.67\n",
       "state_code          38.99\n",
       "region              10.67\n",
       "city                12.37\n",
       "founded_year        22.16"
      ]
     },
     "execution_count": 15,
     "metadata": {},
     "output_type": "execute_result"
    }
   ],
   "source": [
    "# selecting columns having missing values above threshold (10)\n",
    "s = round(df.isnull().sum()/df.shape[0]*100, 2)\n",
    "_ = pd.DataFrame(s, columns=['per_missing'])\n",
    "_[_.per_missing > 10]"
   ]
  },
  {
   "cell_type": "code",
   "execution_count": 16,
   "metadata": {},
   "outputs": [
    {
     "data": {
      "text/html": [
       "<div>\n",
       "<style scoped>\n",
       "    .dataframe tbody tr th:only-of-type {\n",
       "        vertical-align: middle;\n",
       "    }\n",
       "\n",
       "    .dataframe tbody tr th {\n",
       "        vertical-align: top;\n",
       "    }\n",
       "\n",
       "    .dataframe thead th {\n",
       "        text-align: right;\n",
       "    }\n",
       "</style>\n",
       "<table border=\"1\" class=\"dataframe\">\n",
       "  <thead>\n",
       "    <tr style=\"text-align: right;\">\n",
       "      <th></th>\n",
       "      <th>name</th>\n",
       "      <th>homepage_url</th>\n",
       "      <th>category_list</th>\n",
       "      <th>market</th>\n",
       "      <th>funding_total_usd</th>\n",
       "      <th>status</th>\n",
       "      <th>country_code</th>\n",
       "      <th>state_code</th>\n",
       "      <th>region</th>\n",
       "      <th>city</th>\n",
       "      <th>funding_rounds</th>\n",
       "      <th>founded_year</th>\n",
       "      <th>debt_financing</th>\n",
       "      <th>grant</th>\n",
       "    </tr>\n",
       "  </thead>\n",
       "  <tbody>\n",
       "    <tr>\n",
       "      <th>28221</th>\n",
       "      <td>NaN</td>\n",
       "      <td>http://tellitin10.com</td>\n",
       "      <td>|Startups|</td>\n",
       "      <td>Startups</td>\n",
       "      <td>25,000</td>\n",
       "      <td>closed</td>\n",
       "      <td>NaN</td>\n",
       "      <td>NaN</td>\n",
       "      <td>NaN</td>\n",
       "      <td>NaN</td>\n",
       "      <td>1</td>\n",
       "      <td>2011.0</td>\n",
       "      <td>0</td>\n",
       "      <td>0</td>\n",
       "    </tr>\n",
       "  </tbody>\n",
       "</table>\n",
       "</div>"
      ],
      "text/plain": [
       "      name           homepage_url category_list     market   \\\n",
       "28221  NaN  http://tellitin10.com    |Startups|   Startups    \n",
       "\n",
       "       funding_total_usd   status country_code state_code region city  \\\n",
       "28221              25,000  closed          NaN        NaN    NaN  NaN   \n",
       "\n",
       "       funding_rounds  founded_year  debt_financing  grant  \n",
       "28221               1        2011.0               0      0  "
      ]
     },
     "execution_count": 16,
     "metadata": {},
     "output_type": "execute_result"
    }
   ],
   "source": [
    "df[df.name.isnull()] # returns all records having 'name' null"
   ]
  },
  {
   "cell_type": "code",
   "execution_count": 17,
   "metadata": {},
   "outputs": [
    {
     "data": {
      "text/plain": [
       "country_code\n",
       "ALB        1\n",
       "ARE       66\n",
       "ARG      149\n",
       "ARM        2\n",
       "AUS      314\n",
       "       ...  \n",
       "USA    28793\n",
       "UZB        1\n",
       "VNM       21\n",
       "ZAF       52\n",
       "ZWE        1\n",
       "Name: name, Length: 115, dtype: int64"
      ]
     },
     "execution_count": 17,
     "metadata": {},
     "output_type": "execute_result"
    }
   ],
   "source": [
    "# 8.Find count of ‘name’ in each ‘country_code’.\n",
    "# df.groupby(by = ['country_code']).groups\n",
    "df.groupby(by = ['country_code'])['name'].count()"
   ]
  },
  {
   "cell_type": "code",
   "execution_count": 18,
   "metadata": {},
   "outputs": [
    {
     "data": {
      "text/html": [
       "<div>\n",
       "<style scoped>\n",
       "    .dataframe tbody tr th:only-of-type {\n",
       "        vertical-align: middle;\n",
       "    }\n",
       "\n",
       "    .dataframe tbody tr th {\n",
       "        vertical-align: top;\n",
       "    }\n",
       "\n",
       "    .dataframe thead th {\n",
       "        text-align: right;\n",
       "    }\n",
       "</style>\n",
       "<table border=\"1\" class=\"dataframe\">\n",
       "  <thead>\n",
       "    <tr style=\"text-align: right;\">\n",
       "      <th></th>\n",
       "      <th>name_count</th>\n",
       "    </tr>\n",
       "    <tr>\n",
       "      <th>country_code</th>\n",
       "      <th></th>\n",
       "    </tr>\n",
       "  </thead>\n",
       "  <tbody>\n",
       "    <tr>\n",
       "      <th>USA</th>\n",
       "      <td>28793</td>\n",
       "    </tr>\n",
       "    <tr>\n",
       "      <th>GBR</th>\n",
       "      <td>2642</td>\n",
       "    </tr>\n",
       "    <tr>\n",
       "      <th>CAN</th>\n",
       "      <td>1405</td>\n",
       "    </tr>\n",
       "    <tr>\n",
       "      <th>CHN</th>\n",
       "      <td>1239</td>\n",
       "    </tr>\n",
       "    <tr>\n",
       "      <th>DEU</th>\n",
       "      <td>968</td>\n",
       "    </tr>\n",
       "    <tr>\n",
       "      <th>...</th>\n",
       "      <td>...</td>\n",
       "    </tr>\n",
       "    <tr>\n",
       "      <th>JEY</th>\n",
       "      <td>1</td>\n",
       "    </tr>\n",
       "    <tr>\n",
       "      <th>JAM</th>\n",
       "      <td>1</td>\n",
       "    </tr>\n",
       "    <tr>\n",
       "      <th>CIV</th>\n",
       "      <td>1</td>\n",
       "    </tr>\n",
       "    <tr>\n",
       "      <th>BRN</th>\n",
       "      <td>1</td>\n",
       "    </tr>\n",
       "    <tr>\n",
       "      <th>ZWE</th>\n",
       "      <td>1</td>\n",
       "    </tr>\n",
       "  </tbody>\n",
       "</table>\n",
       "<p>115 rows × 1 columns</p>\n",
       "</div>"
      ],
      "text/plain": [
       "              name_count\n",
       "country_code            \n",
       "USA                28793\n",
       "GBR                 2642\n",
       "CAN                 1405\n",
       "CHN                 1239\n",
       "DEU                  968\n",
       "...                  ...\n",
       "JEY                    1\n",
       "JAM                    1\n",
       "CIV                    1\n",
       "BRN                    1\n",
       "ZWE                    1\n",
       "\n",
       "[115 rows x 1 columns]"
      ]
     },
     "execution_count": 18,
     "metadata": {},
     "output_type": "execute_result"
    }
   ],
   "source": [
    "df.groupby(by = ['country_code'])[['name']].count().rename(columns={'name':'name_count'},inplace = False).sort_values('name_count', ascending = False)\n",
    "# returns grouped count, renaming of column, & sorting countries by company_count in des order"
   ]
  },
  {
   "cell_type": "code",
   "execution_count": 19,
   "metadata": {},
   "outputs": [
    {
     "name": "stdout",
     "output_type": "stream",
     "text": [
      "7.47%\n",
      "84.61%\n"
     ]
    }
   ],
   "source": [
    "# 9.What is the percentage of the companies which have status ‘acquired’ and ‘operating’?\n",
    "print(str(round(df[df.status=='acquired'].shape[0]/len(df)*100, 2))+'%')\n",
    "print(str(round(df[df.status=='operating'].shape[0]/len(df)*100, 2))+'%')"
   ]
  },
  {
   "cell_type": "code",
   "execution_count": 20,
   "metadata": {},
   "outputs": [
    {
     "name": "stdout",
     "output_type": "stream",
     "text": [
      "0.0%\n",
      "92.08%\n"
     ]
    }
   ],
   "source": [
    "print(str(round(df[(df.status=='acquired') & (df.status=='operating')].shape[0]/len(df)*100, 2))+'%')\n",
    "print(str(round(df[(df.status=='acquired') | (df.status=='operating')].shape[0]/len(df)*100, 2))+'%')"
   ]
  },
  {
   "cell_type": "code",
   "execution_count": 21,
   "metadata": {},
   "outputs": [
    {
     "data": {
      "text/plain": [
       "['', 'Entertainment', 'Politics', 'Social Media', 'News', '']"
      ]
     },
     "execution_count": 21,
     "metadata": {},
     "output_type": "execute_result"
    }
   ],
   "source": [
    "# 10.Create a column ‘category_list_count’ having count of category lists.\n",
    "'|Entertainment|Politics|Social Media|News|'.split('|')"
   ]
  },
  {
   "cell_type": "code",
   "execution_count": 22,
   "metadata": {},
   "outputs": [],
   "source": [
    "# 11.Find total ‘fundings’ for each country_code.\n"
   ]
  },
  {
   "cell_type": "code",
   "execution_count": 23,
   "metadata": {},
   "outputs": [
    {
     "data": {
      "text/html": [
       "<div>\n",
       "<style scoped>\n",
       "    .dataframe tbody tr th:only-of-type {\n",
       "        vertical-align: middle;\n",
       "    }\n",
       "\n",
       "    .dataframe tbody tr th {\n",
       "        vertical-align: top;\n",
       "    }\n",
       "\n",
       "    .dataframe thead th {\n",
       "        text-align: right;\n",
       "    }\n",
       "</style>\n",
       "<table border=\"1\" class=\"dataframe\">\n",
       "  <thead>\n",
       "    <tr style=\"text-align: right;\">\n",
       "      <th></th>\n",
       "      <th>name</th>\n",
       "      <th>homepage_url</th>\n",
       "      <th>category_list</th>\n",
       "      <th>market</th>\n",
       "      <th>funding_total_usd</th>\n",
       "      <th>status</th>\n",
       "      <th>country_code</th>\n",
       "      <th>state_code</th>\n",
       "      <th>region</th>\n",
       "      <th>city</th>\n",
       "      <th>funding_rounds</th>\n",
       "      <th>founded_year</th>\n",
       "      <th>debt_financing</th>\n",
       "      <th>grant</th>\n",
       "      <th>category_list_count</th>\n",
       "    </tr>\n",
       "  </thead>\n",
       "  <tbody>\n",
       "    <tr>\n",
       "      <th>0</th>\n",
       "      <td>#waywire</td>\n",
       "      <td>http://www.waywire.com</td>\n",
       "      <td>|Entertainment|Politics|Social Media|News|</td>\n",
       "      <td>News</td>\n",
       "      <td>17,50,000</td>\n",
       "      <td>acquired</td>\n",
       "      <td>USA</td>\n",
       "      <td>NY</td>\n",
       "      <td>New York City</td>\n",
       "      <td>New York</td>\n",
       "      <td>1</td>\n",
       "      <td>2012.0</td>\n",
       "      <td>0</td>\n",
       "      <td>0</td>\n",
       "      <td>4</td>\n",
       "    </tr>\n",
       "    <tr>\n",
       "      <th>1</th>\n",
       "      <td>&amp;TV Communications</td>\n",
       "      <td>http://enjoyandtv.com</td>\n",
       "      <td>|Games|</td>\n",
       "      <td>Games</td>\n",
       "      <td>40,00,000</td>\n",
       "      <td>operating</td>\n",
       "      <td>USA</td>\n",
       "      <td>CA</td>\n",
       "      <td>Los Angeles</td>\n",
       "      <td>Los Angeles</td>\n",
       "      <td>2</td>\n",
       "      <td>NaN</td>\n",
       "      <td>0</td>\n",
       "      <td>0</td>\n",
       "      <td>1</td>\n",
       "    </tr>\n",
       "    <tr>\n",
       "      <th>2</th>\n",
       "      <td>'Rock' Your Paper</td>\n",
       "      <td>http://www.rockyourpaper.org</td>\n",
       "      <td>|Publishing|Education|</td>\n",
       "      <td>Publishing</td>\n",
       "      <td>40,000</td>\n",
       "      <td>operating</td>\n",
       "      <td>EST</td>\n",
       "      <td>NaN</td>\n",
       "      <td>Tallinn</td>\n",
       "      <td>Tallinn</td>\n",
       "      <td>1</td>\n",
       "      <td>2012.0</td>\n",
       "      <td>0</td>\n",
       "      <td>0</td>\n",
       "      <td>2</td>\n",
       "    </tr>\n",
       "    <tr>\n",
       "      <th>3</th>\n",
       "      <td>(In)Touch Network</td>\n",
       "      <td>http://www.InTouchNetwork.com</td>\n",
       "      <td>|Electronics|Guides|Coffee|Restaurants|Music|i...</td>\n",
       "      <td>Electronics</td>\n",
       "      <td>15,00,000</td>\n",
       "      <td>operating</td>\n",
       "      <td>GBR</td>\n",
       "      <td>NaN</td>\n",
       "      <td>London</td>\n",
       "      <td>London</td>\n",
       "      <td>1</td>\n",
       "      <td>2011.0</td>\n",
       "      <td>0</td>\n",
       "      <td>0</td>\n",
       "      <td>10</td>\n",
       "    </tr>\n",
       "    <tr>\n",
       "      <th>4</th>\n",
       "      <td>-R- Ranch and Mine</td>\n",
       "      <td>NaN</td>\n",
       "      <td>|Tourism|Entertainment|Games|</td>\n",
       "      <td>Tourism</td>\n",
       "      <td>60,000</td>\n",
       "      <td>operating</td>\n",
       "      <td>USA</td>\n",
       "      <td>TX</td>\n",
       "      <td>Dallas</td>\n",
       "      <td>Fort Worth</td>\n",
       "      <td>2</td>\n",
       "      <td>2014.0</td>\n",
       "      <td>0</td>\n",
       "      <td>0</td>\n",
       "      <td>3</td>\n",
       "    </tr>\n",
       "  </tbody>\n",
       "</table>\n",
       "</div>"
      ],
      "text/plain": [
       "                 name                   homepage_url  \\\n",
       "0            #waywire         http://www.waywire.com   \n",
       "1  &TV Communications          http://enjoyandtv.com   \n",
       "2   'Rock' Your Paper   http://www.rockyourpaper.org   \n",
       "3   (In)Touch Network  http://www.InTouchNetwork.com   \n",
       "4  -R- Ranch and Mine                            NaN   \n",
       "\n",
       "                                       category_list        market   \\\n",
       "0         |Entertainment|Politics|Social Media|News|          News    \n",
       "1                                            |Games|         Games    \n",
       "2                             |Publishing|Education|    Publishing    \n",
       "3  |Electronics|Guides|Coffee|Restaurants|Music|i...   Electronics    \n",
       "4                      |Tourism|Entertainment|Games|       Tourism    \n",
       "\n",
       "   funding_total_usd      status country_code state_code         region  \\\n",
       "0           17,50,000   acquired          USA         NY  New York City   \n",
       "1           40,00,000  operating          USA         CA    Los Angeles   \n",
       "2              40,000  operating          EST        NaN        Tallinn   \n",
       "3           15,00,000  operating          GBR        NaN         London   \n",
       "4              60,000  operating          USA         TX         Dallas   \n",
       "\n",
       "          city  funding_rounds  founded_year  debt_financing  grant  \\\n",
       "0     New York               1        2012.0               0      0   \n",
       "1  Los Angeles               2           NaN               0      0   \n",
       "2      Tallinn               1        2012.0               0      0   \n",
       "3       London               1        2011.0               0      0   \n",
       "4   Fort Worth               2        2014.0               0      0   \n",
       "\n",
       "   category_list_count  \n",
       "0                    4  \n",
       "1                    1  \n",
       "2                    2  \n",
       "3                   10  \n",
       "4                    3  "
      ]
     },
     "execution_count": 23,
     "metadata": {},
     "output_type": "execute_result"
    }
   ],
   "source": [
    "df['category_list_count']=df['category_list'].apply(lambda x: len(str(x).split('|')) - 2)\n",
    "df.head()"
   ]
  },
  {
   "cell_type": "code",
   "execution_count": 24,
   "metadata": {},
   "outputs": [
    {
     "data": {
      "text/html": [
       "<div>\n",
       "<style scoped>\n",
       "    .dataframe tbody tr th:only-of-type {\n",
       "        vertical-align: middle;\n",
       "    }\n",
       "\n",
       "    .dataframe tbody tr th {\n",
       "        vertical-align: top;\n",
       "    }\n",
       "\n",
       "    .dataframe thead th {\n",
       "        text-align: right;\n",
       "    }\n",
       "</style>\n",
       "<table border=\"1\" class=\"dataframe\">\n",
       "  <thead>\n",
       "    <tr style=\"text-align: right;\">\n",
       "      <th></th>\n",
       "      <th>category_list</th>\n",
       "      <th>category_list_count</th>\n",
       "    </tr>\n",
       "  </thead>\n",
       "  <tbody>\n",
       "    <tr>\n",
       "      <th>0</th>\n",
       "      <td>|Entertainment|Politics|Social Media|News|</td>\n",
       "      <td>4</td>\n",
       "    </tr>\n",
       "    <tr>\n",
       "      <th>1</th>\n",
       "      <td>|Games|</td>\n",
       "      <td>1</td>\n",
       "    </tr>\n",
       "    <tr>\n",
       "      <th>2</th>\n",
       "      <td>|Publishing|Education|</td>\n",
       "      <td>2</td>\n",
       "    </tr>\n",
       "    <tr>\n",
       "      <th>3</th>\n",
       "      <td>|Electronics|Guides|Coffee|Restaurants|Music|i...</td>\n",
       "      <td>10</td>\n",
       "    </tr>\n",
       "    <tr>\n",
       "      <th>4</th>\n",
       "      <td>|Tourism|Entertainment|Games|</td>\n",
       "      <td>3</td>\n",
       "    </tr>\n",
       "    <tr>\n",
       "      <th>...</th>\n",
       "      <td>...</td>\n",
       "      <td>...</td>\n",
       "    </tr>\n",
       "    <tr>\n",
       "      <th>49433</th>\n",
       "      <td>|Analytics|Gamification|Developer APIs|iOS|And...</td>\n",
       "      <td>6</td>\n",
       "    </tr>\n",
       "    <tr>\n",
       "      <th>49434</th>\n",
       "      <td>|Enterprise Software|</td>\n",
       "      <td>1</td>\n",
       "    </tr>\n",
       "    <tr>\n",
       "      <th>49435</th>\n",
       "      <td>|Web Development|Advertising|Wireless|Mobile|</td>\n",
       "      <td>4</td>\n",
       "    </tr>\n",
       "    <tr>\n",
       "      <th>49436</th>\n",
       "      <td>|Games|</td>\n",
       "      <td>1</td>\n",
       "    </tr>\n",
       "    <tr>\n",
       "      <th>49437</th>\n",
       "      <td>|Enterprise Software|</td>\n",
       "      <td>1</td>\n",
       "    </tr>\n",
       "  </tbody>\n",
       "</table>\n",
       "<p>49438 rows × 2 columns</p>\n",
       "</div>"
      ],
      "text/plain": [
       "                                           category_list  category_list_count\n",
       "0             |Entertainment|Politics|Social Media|News|                    4\n",
       "1                                                |Games|                    1\n",
       "2                                 |Publishing|Education|                    2\n",
       "3      |Electronics|Guides|Coffee|Restaurants|Music|i...                   10\n",
       "4                          |Tourism|Entertainment|Games|                    3\n",
       "...                                                  ...                  ...\n",
       "49433  |Analytics|Gamification|Developer APIs|iOS|And...                    6\n",
       "49434                              |Enterprise Software|                    1\n",
       "49435      |Web Development|Advertising|Wireless|Mobile|                    4\n",
       "49436                                            |Games|                    1\n",
       "49437                              |Enterprise Software|                    1\n",
       "\n",
       "[49438 rows x 2 columns]"
      ]
     },
     "execution_count": 24,
     "metadata": {},
     "output_type": "execute_result"
    }
   ],
   "source": [
    "df.loc[:,['category_list','category_list_count']]"
   ]
  },
  {
   "cell_type": "code",
   "execution_count": 25,
   "metadata": {},
   "outputs": [
    {
     "data": {
      "text/html": [
       "<div>\n",
       "<style scoped>\n",
       "    .dataframe tbody tr th:only-of-type {\n",
       "        vertical-align: middle;\n",
       "    }\n",
       "\n",
       "    .dataframe tbody tr th {\n",
       "        vertical-align: top;\n",
       "    }\n",
       "\n",
       "    .dataframe thead th {\n",
       "        text-align: right;\n",
       "    }\n",
       "</style>\n",
       "<table border=\"1\" class=\"dataframe\">\n",
       "  <thead>\n",
       "    <tr style=\"text-align: right;\">\n",
       "      <th></th>\n",
       "      <th>name</th>\n",
       "      <th>homepage_url</th>\n",
       "      <th>category_list</th>\n",
       "      <th>market</th>\n",
       "      <th>funding_total_usd</th>\n",
       "      <th>status</th>\n",
       "      <th>country_code</th>\n",
       "      <th>state_code</th>\n",
       "      <th>region</th>\n",
       "      <th>city</th>\n",
       "      <th>funding_rounds</th>\n",
       "      <th>founded_year</th>\n",
       "      <th>debt_financing</th>\n",
       "      <th>grant</th>\n",
       "      <th>category_list_count</th>\n",
       "    </tr>\n",
       "  </thead>\n",
       "  <tbody>\n",
       "    <tr>\n",
       "      <th>0</th>\n",
       "      <td>#waywire</td>\n",
       "      <td>http://www.waywire.com</td>\n",
       "      <td>|Entertainment|Politics|Social Media|News|</td>\n",
       "      <td>News</td>\n",
       "      <td>17,50,000</td>\n",
       "      <td>acquired</td>\n",
       "      <td>USA</td>\n",
       "      <td>NY</td>\n",
       "      <td>New York City</td>\n",
       "      <td>New York</td>\n",
       "      <td>1</td>\n",
       "      <td>2012.0</td>\n",
       "      <td>0</td>\n",
       "      <td>0</td>\n",
       "      <td>4</td>\n",
       "    </tr>\n",
       "    <tr>\n",
       "      <th>1</th>\n",
       "      <td>&amp;TV Communications</td>\n",
       "      <td>http://enjoyandtv.com</td>\n",
       "      <td>|Games|</td>\n",
       "      <td>Games</td>\n",
       "      <td>40,00,000</td>\n",
       "      <td>operating</td>\n",
       "      <td>USA</td>\n",
       "      <td>CA</td>\n",
       "      <td>Los Angeles</td>\n",
       "      <td>Los Angeles</td>\n",
       "      <td>2</td>\n",
       "      <td>NaN</td>\n",
       "      <td>0</td>\n",
       "      <td>0</td>\n",
       "      <td>1</td>\n",
       "    </tr>\n",
       "  </tbody>\n",
       "</table>\n",
       "</div>"
      ],
      "text/plain": [
       "                 name            homepage_url  \\\n",
       "0            #waywire  http://www.waywire.com   \n",
       "1  &TV Communications   http://enjoyandtv.com   \n",
       "\n",
       "                                category_list  market   funding_total_usd   \\\n",
       "0  |Entertainment|Politics|Social Media|News|    News            17,50,000   \n",
       "1                                     |Games|   Games            40,00,000   \n",
       "\n",
       "      status country_code state_code         region         city  \\\n",
       "0   acquired          USA         NY  New York City     New York   \n",
       "1  operating          USA         CA    Los Angeles  Los Angeles   \n",
       "\n",
       "   funding_rounds  founded_year  debt_financing  grant  category_list_count  \n",
       "0               1        2012.0               0      0                    4  \n",
       "1               2           NaN               0      0                    1  "
      ]
     },
     "execution_count": 25,
     "metadata": {},
     "output_type": "execute_result"
    }
   ],
   "source": [
    "df.head(2)"
   ]
  },
  {
   "cell_type": "code",
   "execution_count": 26,
   "metadata": {},
   "outputs": [
    {
     "data": {
      "text/plain": [
       "country_code\n",
       "ALB    0.000000e+00\n",
       "ARE    9.832352e+06\n",
       "ARG    1.787353e+06\n",
       "ARM    1.340649e+07\n",
       "AUS    8.276922e+06\n",
       "           ...     \n",
       "USA    1.612353e+07\n",
       "UZB    9.000000e+04\n",
       "VNM    1.023431e+07\n",
       "ZAF    1.243687e+07\n",
       "ZWE    1.000000e+07\n",
       "Name:  funding_total_usd , Length: 115, dtype: float64"
      ]
     },
     "execution_count": 26,
     "metadata": {},
     "output_type": "execute_result"
    }
   ],
   "source": [
    "# 12.Find average ‘funding_total_usd’ for each country_code.\n",
    "import re\n",
    "# ',',' -   ','none'\n",
    "df[' funding_total_usd '] = np.where(df[' funding_total_usd ']==' -   ', '0',\n",
    "                                     df[' funding_total_usd '] )\n",
    "df[' funding_total_usd '] = df[' funding_total_usd '].apply(lambda x: re.sub(',', '', x))\n",
    "df[' funding_total_usd '] = df[' funding_total_usd '].astype('float')\n",
    "df.groupby('country_code')[' funding_total_usd '].mean()"
   ]
  },
  {
   "cell_type": "code",
   "execution_count": 27,
   "metadata": {},
   "outputs": [
    {
     "data": {
      "text/plain": [
       "5273"
      ]
     },
     "execution_count": 27,
     "metadata": {},
     "output_type": "execute_result"
    }
   ],
   "source": [
    "df.region.isnull().sum()"
   ]
  },
  {
   "cell_type": "code",
   "execution_count": 28,
   "metadata": {},
   "outputs": [
    {
     "data": {
      "text/html": [
       "<div>\n",
       "<style scoped>\n",
       "    .dataframe tbody tr th:only-of-type {\n",
       "        vertical-align: middle;\n",
       "    }\n",
       "\n",
       "    .dataframe tbody tr th {\n",
       "        vertical-align: top;\n",
       "    }\n",
       "\n",
       "    .dataframe thead th {\n",
       "        text-align: right;\n",
       "    }\n",
       "</style>\n",
       "<table border=\"1\" class=\"dataframe\">\n",
       "  <thead>\n",
       "    <tr style=\"text-align: right;\">\n",
       "      <th></th>\n",
       "      <th>funding_total_usd</th>\n",
       "    </tr>\n",
       "    <tr>\n",
       "      <th>region</th>\n",
       "      <th></th>\n",
       "    </tr>\n",
       "  </thead>\n",
       "  <tbody>\n",
       "    <tr>\n",
       "      <th>Madurai</th>\n",
       "      <td>0.0</td>\n",
       "    </tr>\n",
       "    <tr>\n",
       "      <th>Klagenfurt</th>\n",
       "      <td>0.0</td>\n",
       "    </tr>\n",
       "    <tr>\n",
       "      <th>BRN - Other</th>\n",
       "      <td>0.0</td>\n",
       "    </tr>\n",
       "    <tr>\n",
       "      <th>Kolding</th>\n",
       "      <td>0.0</td>\n",
       "    </tr>\n",
       "    <tr>\n",
       "      <th>LAO - Other</th>\n",
       "      <td>0.0</td>\n",
       "    </tr>\n",
       "    <tr>\n",
       "      <th>...</th>\n",
       "      <td>...</td>\n",
       "    </tr>\n",
       "    <tr>\n",
       "      <th>Lincolnshire</th>\n",
       "      <td>167400000.0</td>\n",
       "    </tr>\n",
       "    <tr>\n",
       "      <th>Bermuda</th>\n",
       "      <td>187916500.0</td>\n",
       "    </tr>\n",
       "    <tr>\n",
       "      <th>Spruce Grove</th>\n",
       "      <td>240000000.0</td>\n",
       "    </tr>\n",
       "    <tr>\n",
       "      <th>Burleigh Heads</th>\n",
       "      <td>382106890.0</td>\n",
       "    </tr>\n",
       "    <tr>\n",
       "      <th>West Sussex</th>\n",
       "      <td>541000000.0</td>\n",
       "    </tr>\n",
       "  </tbody>\n",
       "</table>\n",
       "<p>1089 rows × 1 columns</p>\n",
       "</div>"
      ],
      "text/plain": [
       "                 funding_total_usd \n",
       "region                             \n",
       "Madurai                         0.0\n",
       "Klagenfurt                      0.0\n",
       "BRN - Other                     0.0\n",
       "Kolding                         0.0\n",
       "LAO - Other                     0.0\n",
       "...                             ...\n",
       "Lincolnshire            167400000.0\n",
       "Bermuda                 187916500.0\n",
       "Spruce Grove            240000000.0\n",
       "Burleigh Heads          382106890.0\n",
       "West Sussex             541000000.0\n",
       "\n",
       "[1089 rows x 1 columns]"
      ]
     },
     "execution_count": 28,
     "metadata": {},
     "output_type": "execute_result"
    }
   ],
   "source": [
    "# 13.Find average ‘funding_total_usd’ in each region.\n",
    "# import re\n",
    "# # ',',' -   ','none'\n",
    "# df[' funding_total_usd '] = np.where(df[' funding_total_usd ']==' -   ', '0',\n",
    "#                                      df[' funding_total_usd '] )\n",
    "# df[' funding_total_usd '] = df[' funding_total_usd '].apply(lambda x: re.sub(',', '', x))\n",
    "# df[' funding_total_usd '] = df[' funding_total_usd '].astype('float')\n",
    "df.groupby('region')[[' funding_total_usd ']].mean().sort_values(' funding_total_usd ', ascending = True)"
   ]
  },
  {
   "cell_type": "code",
   "execution_count": 29,
   "metadata": {},
   "outputs": [
    {
     "data": {
      "text/plain": [
       "32006"
      ]
     },
     "execution_count": 29,
     "metadata": {},
     "output_type": "execute_result"
    }
   ],
   "source": [
    "# 14.How many companies have got just 1 round of funding?\n",
    "len(df[df.funding_rounds==1]['name'].unique())"
   ]
  },
  {
   "cell_type": "code",
   "execution_count": 30,
   "metadata": {},
   "outputs": [
    {
     "data": {
      "text/plain": [
       "32006"
      ]
     },
     "execution_count": 30,
     "metadata": {},
     "output_type": "execute_result"
    }
   ],
   "source": [
    "len(set(df[df.funding_rounds==1]['name']))"
   ]
  },
  {
   "cell_type": "code",
   "execution_count": 31,
   "metadata": {},
   "outputs": [
    {
     "name": "stdout",
     "output_type": "stream",
     "text": [
      "4225\n",
      "4225\n"
     ]
    }
   ],
   "source": [
    "# 15.How many companies have ‘debt_financing’ above zero?\n",
    "print(len(df[df.debt_financing > 0]['name'].unique()))\n",
    "print(len(set(df[df.debt_financing > 0]['name'])))"
   ]
  },
  {
   "cell_type": "code",
   "execution_count": 32,
   "metadata": {},
   "outputs": [
    {
     "data": {
      "text/html": [
       "<div>\n",
       "<style scoped>\n",
       "    .dataframe tbody tr th:only-of-type {\n",
       "        vertical-align: middle;\n",
       "    }\n",
       "\n",
       "    .dataframe tbody tr th {\n",
       "        vertical-align: top;\n",
       "    }\n",
       "\n",
       "    .dataframe thead th {\n",
       "        text-align: right;\n",
       "    }\n",
       "</style>\n",
       "<table border=\"1\" class=\"dataframe\">\n",
       "  <thead>\n",
       "    <tr style=\"text-align: right;\">\n",
       "      <th></th>\n",
       "      <th>name</th>\n",
       "      <th>homepage_url</th>\n",
       "      <th>homepage</th>\n",
       "    </tr>\n",
       "  </thead>\n",
       "  <tbody>\n",
       "    <tr>\n",
       "      <th>0</th>\n",
       "      <td>#waywire</td>\n",
       "      <td>http://www.waywire.com</td>\n",
       "      <td>waywire</td>\n",
       "    </tr>\n",
       "    <tr>\n",
       "      <th>1</th>\n",
       "      <td>&amp;TV Communications</td>\n",
       "      <td>http://enjoyandtv.com</td>\n",
       "      <td>enjoyandtv</td>\n",
       "    </tr>\n",
       "    <tr>\n",
       "      <th>2</th>\n",
       "      <td>'Rock' Your Paper</td>\n",
       "      <td>http://www.rockyourpaper.org</td>\n",
       "      <td>rockyourpaper.org</td>\n",
       "    </tr>\n",
       "    <tr>\n",
       "      <th>3</th>\n",
       "      <td>(In)Touch Network</td>\n",
       "      <td>http://www.InTouchNetwork.com</td>\n",
       "      <td>InTouchNetwork</td>\n",
       "    </tr>\n",
       "    <tr>\n",
       "      <th>4</th>\n",
       "      <td>-R- Ranch and Mine</td>\n",
       "      <td>NaN</td>\n",
       "      <td>nan</td>\n",
       "    </tr>\n",
       "    <tr>\n",
       "      <th>...</th>\n",
       "      <td>...</td>\n",
       "      <td>...</td>\n",
       "      <td>...</td>\n",
       "    </tr>\n",
       "    <tr>\n",
       "      <th>49433</th>\n",
       "      <td>Zzish</td>\n",
       "      <td>http://www.zzish.com</td>\n",
       "      <td>zzish</td>\n",
       "    </tr>\n",
       "    <tr>\n",
       "      <th>49434</th>\n",
       "      <td>ZZNode Science and Technology</td>\n",
       "      <td>http://www.zznode.com</td>\n",
       "      <td>zznode</td>\n",
       "    </tr>\n",
       "    <tr>\n",
       "      <th>49435</th>\n",
       "      <td>Zzzzapp Wireless ltd.</td>\n",
       "      <td>http://www.zzzzapp.com</td>\n",
       "      <td>zzzzapp</td>\n",
       "    </tr>\n",
       "    <tr>\n",
       "      <th>49436</th>\n",
       "      <td>[a]list games</td>\n",
       "      <td>http://www.alistgames.com</td>\n",
       "      <td>alistgames</td>\n",
       "    </tr>\n",
       "    <tr>\n",
       "      <th>49437</th>\n",
       "      <td>[x+1]</td>\n",
       "      <td>http://www.xplusone.com/</td>\n",
       "      <td>xplusone/</td>\n",
       "    </tr>\n",
       "  </tbody>\n",
       "</table>\n",
       "<p>49438 rows × 3 columns</p>\n",
       "</div>"
      ],
      "text/plain": [
       "                                name                   homepage_url  \\\n",
       "0                           #waywire         http://www.waywire.com   \n",
       "1                 &TV Communications          http://enjoyandtv.com   \n",
       "2                  'Rock' Your Paper   http://www.rockyourpaper.org   \n",
       "3                  (In)Touch Network  http://www.InTouchNetwork.com   \n",
       "4                 -R- Ranch and Mine                            NaN   \n",
       "...                              ...                            ...   \n",
       "49433                          Zzish           http://www.zzish.com   \n",
       "49434  ZZNode Science and Technology          http://www.zznode.com   \n",
       "49435          Zzzzapp Wireless ltd.         http://www.zzzzapp.com   \n",
       "49436                  [a]list games      http://www.alistgames.com   \n",
       "49437                          [x+1]       http://www.xplusone.com/   \n",
       "\n",
       "                homepage  \n",
       "0                waywire  \n",
       "1             enjoyandtv  \n",
       "2      rockyourpaper.org  \n",
       "3         InTouchNetwork  \n",
       "4                    nan  \n",
       "...                  ...  \n",
       "49433              zzish  \n",
       "49434             zznode  \n",
       "49435            zzzzapp  \n",
       "49436         alistgames  \n",
       "49437          xplusone/  \n",
       "\n",
       "[49438 rows x 3 columns]"
      ]
     },
     "execution_count": 32,
     "metadata": {},
     "output_type": "execute_result"
    }
   ],
   "source": [
    "# 16.Create a column ‘homepage’ to store company name from ‘homepage_url’: \n",
    "# For example: If url is http://www.waywire.com, name is waywire.\n",
    "import re\n",
    "df['homepage'] = df.homepage_url.apply(lambda x: re.sub\n",
    "                        (pattern = \"(http://www.|.com|http://)\", repl='', string=str(x)))\n",
    "df.loc[:,['name','homepage_url','homepage']]\n"
   ]
  },
  {
   "cell_type": "code",
   "execution_count": 33,
   "metadata": {},
   "outputs": [
    {
     "data": {
      "text/plain": [
       " market \n",
       " 3D                25\n",
       " 3D Printing        9\n",
       " 3D Technology      8\n",
       " Accounting        18\n",
       " Ad Targeting      13\n",
       "                   ..\n",
       " iOS               48\n",
       " iPad              29\n",
       " iPhone            69\n",
       " iPod Touch         3\n",
       " mHealth            8\n",
       "Name: name, Length: 753, dtype: int64"
      ]
     },
     "execution_count": 33,
     "metadata": {},
     "output_type": "execute_result"
    }
   ],
   "source": [
    "# 17.Find count of companies in each of the market.\n",
    "df.groupby(' market ')['name'].count()"
   ]
  },
  {
   "cell_type": "code",
   "execution_count": 34,
   "metadata": {},
   "outputs": [
    {
     "data": {
      "text/plain": [
       "Index(['name', 'homepage_url', 'category_list', ' market ',\n",
       "       'funding_total_usd', 'status', 'country_code', 'state_code', 'region',\n",
       "       'city', 'funding_rounds', 'founded_year', 'debt_financing', 'grant',\n",
       "       'category_list_count', 'homepage'],\n",
       "      dtype='object')"
      ]
     },
     "execution_count": 34,
     "metadata": {},
     "output_type": "execute_result"
    }
   ],
   "source": [
    "# 18(a).Rename ' funding_total_usd ' to 'funding_total_usd'\n",
    "df.rename(columns = {' funding_total_usd ':'funding_total_usd'}, inplace = True)\n",
    "df.columns"
   ]
  },
  {
   "cell_type": "code",
   "execution_count": 35,
   "metadata": {},
   "outputs": [
    {
     "data": {
      "text/plain": [
       "Index(['name', 'homepage_url', 'category_list', 'market', 'funding_total_usd',\n",
       "       'status', 'country_code', 'state_code', 'region', 'city',\n",
       "       'funding_rounds', 'founded_year', 'debt_financing', 'grant',\n",
       "       'category_list_count', 'homepage'],\n",
       "      dtype='object')"
      ]
     },
     "execution_count": 35,
     "metadata": {},
     "output_type": "execute_result"
    }
   ],
   "source": [
    "# 18(b).Rename ' market ' to 'market'\n",
    "df.rename(columns = {' market ':'market'}, inplace = True)\n",
    "df.columns"
   ]
  },
  {
   "cell_type": "code",
   "execution_count": 36,
   "metadata": {},
   "outputs": [
    {
     "data": {
      "text/html": [
       "<div>\n",
       "<style scoped>\n",
       "    .dataframe tbody tr th:only-of-type {\n",
       "        vertical-align: middle;\n",
       "    }\n",
       "\n",
       "    .dataframe tbody tr th {\n",
       "        vertical-align: top;\n",
       "    }\n",
       "\n",
       "    .dataframe thead th {\n",
       "        text-align: right;\n",
       "    }\n",
       "</style>\n",
       "<table border=\"1\" class=\"dataframe\">\n",
       "  <thead>\n",
       "    <tr style=\"text-align: right;\">\n",
       "      <th></th>\n",
       "      <th>name</th>\n",
       "      <th>homepage_url</th>\n",
       "      <th>category_list</th>\n",
       "      <th>market</th>\n",
       "      <th>funding_total_usd</th>\n",
       "      <th>status</th>\n",
       "      <th>country_code</th>\n",
       "      <th>state_code</th>\n",
       "      <th>region</th>\n",
       "      <th>city</th>\n",
       "      <th>funding_rounds</th>\n",
       "      <th>founded_year</th>\n",
       "      <th>debt_financing</th>\n",
       "      <th>grant</th>\n",
       "      <th>category_list_count</th>\n",
       "      <th>homepage</th>\n",
       "    </tr>\n",
       "  </thead>\n",
       "  <tbody>\n",
       "    <tr>\n",
       "      <th>0</th>\n",
       "      <td>#waywire</td>\n",
       "      <td>http://www.waywire.com</td>\n",
       "      <td>|Entertainment|Politics|Social Media|News|</td>\n",
       "      <td>News</td>\n",
       "      <td>1750000.0</td>\n",
       "      <td>acquired</td>\n",
       "      <td>USA</td>\n",
       "      <td>NY</td>\n",
       "      <td>New York City</td>\n",
       "      <td>New York</td>\n",
       "      <td>1</td>\n",
       "      <td>2012.0</td>\n",
       "      <td>0</td>\n",
       "      <td>0</td>\n",
       "      <td>4</td>\n",
       "      <td>waywire</td>\n",
       "    </tr>\n",
       "    <tr>\n",
       "      <th>1</th>\n",
       "      <td>&amp;TV Communications</td>\n",
       "      <td>http://enjoyandtv.com</td>\n",
       "      <td>|Games|</td>\n",
       "      <td>Games</td>\n",
       "      <td>4000000.0</td>\n",
       "      <td>operating</td>\n",
       "      <td>USA</td>\n",
       "      <td>CA</td>\n",
       "      <td>Los Angeles</td>\n",
       "      <td>Los Angeles</td>\n",
       "      <td>2</td>\n",
       "      <td>NaN</td>\n",
       "      <td>0</td>\n",
       "      <td>0</td>\n",
       "      <td>1</td>\n",
       "      <td>enjoyandtv</td>\n",
       "    </tr>\n",
       "  </tbody>\n",
       "</table>\n",
       "</div>"
      ],
      "text/plain": [
       "                 name            homepage_url  \\\n",
       "0            #waywire  http://www.waywire.com   \n",
       "1  &TV Communications   http://enjoyandtv.com   \n",
       "\n",
       "                                category_list   market  funding_total_usd  \\\n",
       "0  |Entertainment|Politics|Social Media|News|    News           1750000.0   \n",
       "1                                     |Games|   Games           4000000.0   \n",
       "\n",
       "      status country_code state_code         region         city  \\\n",
       "0   acquired          USA         NY  New York City     New York   \n",
       "1  operating          USA         CA    Los Angeles  Los Angeles   \n",
       "\n",
       "   funding_rounds  founded_year  debt_financing  grant  category_list_count  \\\n",
       "0               1        2012.0               0      0                    4   \n",
       "1               2           NaN               0      0                    1   \n",
       "\n",
       "     homepage  \n",
       "0     waywire  \n",
       "1  enjoyandtv  "
      ]
     },
     "execution_count": 36,
     "metadata": {},
     "output_type": "execute_result"
    }
   ],
   "source": [
    "df.head(2)"
   ]
  },
  {
   "cell_type": "code",
   "execution_count": 37,
   "metadata": {},
   "outputs": [
    {
     "data": {
      "text/plain": [
       "-11416667.404506655"
      ]
     },
     "execution_count": 37,
     "metadata": {},
     "output_type": "execute_result"
    }
   ],
   "source": [
    "1750000.0-13166667.404506655"
   ]
  },
  {
   "cell_type": "code",
   "execution_count": 38,
   "metadata": {},
   "outputs": [
    {
     "name": "stdout",
     "output_type": "stream",
     "text": [
      "13166667.404506655\n"
     ]
    },
    {
     "data": {
      "text/html": [
       "<div>\n",
       "<style scoped>\n",
       "    .dataframe tbody tr th:only-of-type {\n",
       "        vertical-align: middle;\n",
       "    }\n",
       "\n",
       "    .dataframe tbody tr th {\n",
       "        vertical-align: top;\n",
       "    }\n",
       "\n",
       "    .dataframe thead th {\n",
       "        text-align: right;\n",
       "    }\n",
       "</style>\n",
       "<table border=\"1\" class=\"dataframe\">\n",
       "  <thead>\n",
       "    <tr style=\"text-align: right;\">\n",
       "      <th></th>\n",
       "      <th>city</th>\n",
       "      <th>funding_total_usd</th>\n",
       "      <th>funding_total_usd_average</th>\n",
       "      <th>variance_g</th>\n",
       "    </tr>\n",
       "  </thead>\n",
       "  <tbody>\n",
       "    <tr>\n",
       "      <th>0</th>\n",
       "      <td>New York</td>\n",
       "      <td>1750000.0</td>\n",
       "      <td>1.316667e+07</td>\n",
       "      <td>-1.141667e+07</td>\n",
       "    </tr>\n",
       "    <tr>\n",
       "      <th>1</th>\n",
       "      <td>Los Angeles</td>\n",
       "      <td>4000000.0</td>\n",
       "      <td>1.316667e+07</td>\n",
       "      <td>-9.166667e+06</td>\n",
       "    </tr>\n",
       "    <tr>\n",
       "      <th>2</th>\n",
       "      <td>Tallinn</td>\n",
       "      <td>40000.0</td>\n",
       "      <td>1.316667e+07</td>\n",
       "      <td>-1.312667e+07</td>\n",
       "    </tr>\n",
       "    <tr>\n",
       "      <th>3</th>\n",
       "      <td>London</td>\n",
       "      <td>1500000.0</td>\n",
       "      <td>1.316667e+07</td>\n",
       "      <td>-1.166667e+07</td>\n",
       "    </tr>\n",
       "    <tr>\n",
       "      <th>4</th>\n",
       "      <td>Fort Worth</td>\n",
       "      <td>60000.0</td>\n",
       "      <td>1.316667e+07</td>\n",
       "      <td>-1.310667e+07</td>\n",
       "    </tr>\n",
       "    <tr>\n",
       "      <th>...</th>\n",
       "      <td>...</td>\n",
       "      <td>...</td>\n",
       "      <td>...</td>\n",
       "      <td>...</td>\n",
       "    </tr>\n",
       "    <tr>\n",
       "      <th>49433</th>\n",
       "      <td>London</td>\n",
       "      <td>320000.0</td>\n",
       "      <td>1.316667e+07</td>\n",
       "      <td>-1.284667e+07</td>\n",
       "    </tr>\n",
       "    <tr>\n",
       "      <th>49434</th>\n",
       "      <td>Beijing</td>\n",
       "      <td>1587301.0</td>\n",
       "      <td>1.316667e+07</td>\n",
       "      <td>-1.157937e+07</td>\n",
       "    </tr>\n",
       "    <tr>\n",
       "      <th>49435</th>\n",
       "      <td>Split</td>\n",
       "      <td>97398.0</td>\n",
       "      <td>1.316667e+07</td>\n",
       "      <td>-1.306927e+07</td>\n",
       "    </tr>\n",
       "    <tr>\n",
       "      <th>49436</th>\n",
       "      <td>NaN</td>\n",
       "      <td>9300000.0</td>\n",
       "      <td>1.316667e+07</td>\n",
       "      <td>-3.866667e+06</td>\n",
       "    </tr>\n",
       "    <tr>\n",
       "      <th>49437</th>\n",
       "      <td>New York</td>\n",
       "      <td>45000000.0</td>\n",
       "      <td>1.316667e+07</td>\n",
       "      <td>3.183333e+07</td>\n",
       "    </tr>\n",
       "  </tbody>\n",
       "</table>\n",
       "<p>49438 rows × 4 columns</p>\n",
       "</div>"
      ],
      "text/plain": [
       "              city  funding_total_usd  funding_total_usd_average    variance_g\n",
       "0         New York          1750000.0               1.316667e+07 -1.141667e+07\n",
       "1      Los Angeles          4000000.0               1.316667e+07 -9.166667e+06\n",
       "2          Tallinn            40000.0               1.316667e+07 -1.312667e+07\n",
       "3           London          1500000.0               1.316667e+07 -1.166667e+07\n",
       "4       Fort Worth            60000.0               1.316667e+07 -1.310667e+07\n",
       "...            ...                ...                        ...           ...\n",
       "49433       London           320000.0               1.316667e+07 -1.284667e+07\n",
       "49434      Beijing          1587301.0               1.316667e+07 -1.157937e+07\n",
       "49435        Split            97398.0               1.316667e+07 -1.306927e+07\n",
       "49436          NaN          9300000.0               1.316667e+07 -3.866667e+06\n",
       "49437     New York         45000000.0               1.316667e+07  3.183333e+07\n",
       "\n",
       "[49438 rows x 4 columns]"
      ]
     },
     "execution_count": 38,
     "metadata": {},
     "output_type": "execute_result"
    }
   ],
   "source": [
    "# 19(a).For each row in column ‘funding_total_usd’, \n",
    "#  calculate actual value – average value for ‘city’ {variance}\n",
    "funding_t_usd_average = np.mean(df.funding_total_usd)\n",
    "print(funding_t_usd_average)\n",
    "df['funding_total_usd_average'] = funding_t_usd_average\n",
    "df['variance_g'] = df.funding_total_usd - funding_t_usd_average\n",
    "df.loc[:,['city','funding_total_usd','funding_total_usd_average','variance_g']]"
   ]
  },
  {
   "cell_type": "code",
   "execution_count": 39,
   "metadata": {},
   "outputs": [
    {
     "data": {
      "text/html": [
       "<div>\n",
       "<style scoped>\n",
       "    .dataframe tbody tr th:only-of-type {\n",
       "        vertical-align: middle;\n",
       "    }\n",
       "\n",
       "    .dataframe tbody tr th {\n",
       "        vertical-align: top;\n",
       "    }\n",
       "\n",
       "    .dataframe thead th {\n",
       "        text-align: right;\n",
       "    }\n",
       "</style>\n",
       "<table border=\"1\" class=\"dataframe\">\n",
       "  <thead>\n",
       "    <tr style=\"text-align: right;\">\n",
       "      <th></th>\n",
       "      <th>name</th>\n",
       "      <th>homepage_url</th>\n",
       "      <th>category_list</th>\n",
       "      <th>market</th>\n",
       "      <th>funding_total_usd</th>\n",
       "      <th>status</th>\n",
       "      <th>country_code</th>\n",
       "      <th>state_code</th>\n",
       "      <th>region</th>\n",
       "      <th>city</th>\n",
       "      <th>funding_rounds</th>\n",
       "      <th>founded_year</th>\n",
       "      <th>debt_financing</th>\n",
       "      <th>grant</th>\n",
       "      <th>category_list_count</th>\n",
       "      <th>homepage</th>\n",
       "      <th>funding_total_usd_average</th>\n",
       "      <th>variance_g</th>\n",
       "    </tr>\n",
       "  </thead>\n",
       "  <tbody>\n",
       "    <tr>\n",
       "      <th>0</th>\n",
       "      <td>#waywire</td>\n",
       "      <td>http://www.waywire.com</td>\n",
       "      <td>|Entertainment|Politics|Social Media|News|</td>\n",
       "      <td>News</td>\n",
       "      <td>1750000.0</td>\n",
       "      <td>acquired</td>\n",
       "      <td>USA</td>\n",
       "      <td>NY</td>\n",
       "      <td>New York City</td>\n",
       "      <td>New York</td>\n",
       "      <td>1</td>\n",
       "      <td>2012.0</td>\n",
       "      <td>0</td>\n",
       "      <td>0</td>\n",
       "      <td>4</td>\n",
       "      <td>waywire</td>\n",
       "      <td>1.316667e+07</td>\n",
       "      <td>-1.141667e+07</td>\n",
       "    </tr>\n",
       "  </tbody>\n",
       "</table>\n",
       "</div>"
      ],
      "text/plain": [
       "       name            homepage_url  \\\n",
       "0  #waywire  http://www.waywire.com   \n",
       "\n",
       "                                category_list  market  funding_total_usd  \\\n",
       "0  |Entertainment|Politics|Social Media|News|   News           1750000.0   \n",
       "\n",
       "     status country_code state_code         region      city  funding_rounds  \\\n",
       "0  acquired          USA         NY  New York City  New York               1   \n",
       "\n",
       "   founded_year  debt_financing  grant  category_list_count homepage  \\\n",
       "0        2012.0               0      0                    4  waywire   \n",
       "\n",
       "   funding_total_usd_average    variance_g  \n",
       "0               1.316667e+07 -1.141667e+07  "
      ]
     },
     "execution_count": 39,
     "metadata": {},
     "output_type": "execute_result"
    }
   ],
   "source": [
    "df.head(1)"
   ]
  },
  {
   "cell_type": "code",
   "execution_count": 40,
   "metadata": {},
   "outputs": [
    {
     "data": {
      "text/plain": [
       "26196160.97386461"
      ]
     },
     "execution_count": 40,
     "metadata": {},
     "output_type": "execute_result"
    }
   ],
   "source": [
    "df[df.city=='New York']['funding_total_usd'].mean()"
   ]
  },
  {
   "cell_type": "code",
   "execution_count": 41,
   "metadata": {},
   "outputs": [],
   "source": [
    "# list_ = []\n",
    "# df['city'] = df.city.fillna('other')\n",
    "# for row in df.itertuples(name=None):\n",
    "#     mean_ = df[df.city == row[10]]['funding_total_usd'].mean()\n",
    "#     var_ = row[5] - mean_\n",
    "#     list_.append(var_)\n",
    "\n",
    "# len(list_)    \n",
    "    "
   ]
  },
  {
   "cell_type": "code",
   "execution_count": 42,
   "metadata": {},
   "outputs": [
    {
     "data": {
      "text/plain": [
       "6116"
      ]
     },
     "execution_count": 42,
     "metadata": {},
     "output_type": "execute_result"
    }
   ],
   "source": [
    "df.city.isnull().sum()"
   ]
  },
  {
   "cell_type": "code",
   "execution_count": 43,
   "metadata": {},
   "outputs": [
    {
     "data": {
      "text/html": [
       "<div>\n",
       "<style scoped>\n",
       "    .dataframe tbody tr th:only-of-type {\n",
       "        vertical-align: middle;\n",
       "    }\n",
       "\n",
       "    .dataframe tbody tr th {\n",
       "        vertical-align: top;\n",
       "    }\n",
       "\n",
       "    .dataframe thead th {\n",
       "        text-align: right;\n",
       "    }\n",
       "</style>\n",
       "<table border=\"1\" class=\"dataframe\">\n",
       "  <thead>\n",
       "    <tr style=\"text-align: right;\">\n",
       "      <th></th>\n",
       "      <th>city</th>\n",
       "      <th>funding_total_usd</th>\n",
       "      <th>funding_total_usd_average</th>\n",
       "      <th>variance_g</th>\n",
       "      <th>variance_l</th>\n",
       "    </tr>\n",
       "  </thead>\n",
       "  <tbody>\n",
       "    <tr>\n",
       "      <th>0</th>\n",
       "      <td>New York</td>\n",
       "      <td>1750000.0</td>\n",
       "      <td>1.316667e+07</td>\n",
       "      <td>-1.141667e+07</td>\n",
       "      <td>-2.444616e+07</td>\n",
       "    </tr>\n",
       "    <tr>\n",
       "      <th>1</th>\n",
       "      <td>Los Angeles</td>\n",
       "      <td>4000000.0</td>\n",
       "      <td>1.316667e+07</td>\n",
       "      <td>-9.166667e+06</td>\n",
       "      <td>-7.234447e+06</td>\n",
       "    </tr>\n",
       "    <tr>\n",
       "      <th>2</th>\n",
       "      <td>Tallinn</td>\n",
       "      <td>40000.0</td>\n",
       "      <td>1.316667e+07</td>\n",
       "      <td>-1.312667e+07</td>\n",
       "      <td>-1.723232e+06</td>\n",
       "    </tr>\n",
       "    <tr>\n",
       "      <th>3</th>\n",
       "      <td>London</td>\n",
       "      <td>1500000.0</td>\n",
       "      <td>1.316667e+07</td>\n",
       "      <td>-1.166667e+07</td>\n",
       "      <td>-6.784773e+06</td>\n",
       "    </tr>\n",
       "    <tr>\n",
       "      <th>4</th>\n",
       "      <td>Fort Worth</td>\n",
       "      <td>60000.0</td>\n",
       "      <td>1.316667e+07</td>\n",
       "      <td>-1.310667e+07</td>\n",
       "      <td>-3.522942e+07</td>\n",
       "    </tr>\n",
       "    <tr>\n",
       "      <th>...</th>\n",
       "      <td>...</td>\n",
       "      <td>...</td>\n",
       "      <td>...</td>\n",
       "      <td>...</td>\n",
       "      <td>...</td>\n",
       "    </tr>\n",
       "    <tr>\n",
       "      <th>49433</th>\n",
       "      <td>London</td>\n",
       "      <td>320000.0</td>\n",
       "      <td>1.316667e+07</td>\n",
       "      <td>-1.284667e+07</td>\n",
       "      <td>-7.964773e+06</td>\n",
       "    </tr>\n",
       "    <tr>\n",
       "      <th>49434</th>\n",
       "      <td>Beijing</td>\n",
       "      <td>1587301.0</td>\n",
       "      <td>1.316667e+07</td>\n",
       "      <td>-1.157937e+07</td>\n",
       "      <td>-2.591016e+07</td>\n",
       "    </tr>\n",
       "    <tr>\n",
       "      <th>49435</th>\n",
       "      <td>Split</td>\n",
       "      <td>97398.0</td>\n",
       "      <td>1.316667e+07</td>\n",
       "      <td>-1.306927e+07</td>\n",
       "      <td>5.826533e+04</td>\n",
       "    </tr>\n",
       "    <tr>\n",
       "      <th>49436</th>\n",
       "      <td>other</td>\n",
       "      <td>9300000.0</td>\n",
       "      <td>1.316667e+07</td>\n",
       "      <td>-3.866667e+06</td>\n",
       "      <td>3.434537e+06</td>\n",
       "    </tr>\n",
       "    <tr>\n",
       "      <th>49437</th>\n",
       "      <td>New York</td>\n",
       "      <td>45000000.0</td>\n",
       "      <td>1.316667e+07</td>\n",
       "      <td>3.183333e+07</td>\n",
       "      <td>1.880384e+07</td>\n",
       "    </tr>\n",
       "  </tbody>\n",
       "</table>\n",
       "<p>49438 rows × 5 columns</p>\n",
       "</div>"
      ],
      "text/plain": [
       "              city  funding_total_usd  funding_total_usd_average  \\\n",
       "0         New York          1750000.0               1.316667e+07   \n",
       "1      Los Angeles          4000000.0               1.316667e+07   \n",
       "2          Tallinn            40000.0               1.316667e+07   \n",
       "3           London          1500000.0               1.316667e+07   \n",
       "4       Fort Worth            60000.0               1.316667e+07   \n",
       "...            ...                ...                        ...   \n",
       "49433       London           320000.0               1.316667e+07   \n",
       "49434      Beijing          1587301.0               1.316667e+07   \n",
       "49435        Split            97398.0               1.316667e+07   \n",
       "49436        other          9300000.0               1.316667e+07   \n",
       "49437     New York         45000000.0               1.316667e+07   \n",
       "\n",
       "         variance_g    variance_l  \n",
       "0     -1.141667e+07 -2.444616e+07  \n",
       "1     -9.166667e+06 -7.234447e+06  \n",
       "2     -1.312667e+07 -1.723232e+06  \n",
       "3     -1.166667e+07 -6.784773e+06  \n",
       "4     -1.310667e+07 -3.522942e+07  \n",
       "...             ...           ...  \n",
       "49433 -1.284667e+07 -7.964773e+06  \n",
       "49434 -1.157937e+07 -2.591016e+07  \n",
       "49435 -1.306927e+07  5.826533e+04  \n",
       "49436 -3.866667e+06  3.434537e+06  \n",
       "49437  3.183333e+07  1.880384e+07  \n",
       "\n",
       "[49438 rows x 5 columns]"
      ]
     },
     "execution_count": 43,
     "metadata": {},
     "output_type": "execute_result"
    }
   ],
   "source": [
    "# 19(b).For each row in column ‘funding_total_usd’, \n",
    "#  calculate actual value – average value for each group ‘city’ {variance}\n",
    "df['city'] = df.city.fillna('other')\n",
    "df['variance_l'] = df.groupby('city')['funding_total_usd'].transform(lambda x: x - np.mean(x))\n",
    "df.loc[:,['city','funding_total_usd','funding_total_usd_average','variance_g','variance_l']]"
   ]
  },
  {
   "cell_type": "code",
   "execution_count": 44,
   "metadata": {},
   "outputs": [
    {
     "data": {
      "text/plain": [
       "0       -2.444616e+07\n",
       "1       -7.234447e+06\n",
       "2       -1.723232e+06\n",
       "3       -6.784773e+06\n",
       "4       -3.522942e+07\n",
       "             ...     \n",
       "49433   -7.964773e+06\n",
       "49434   -2.591016e+07\n",
       "49435    5.826533e+04\n",
       "49436    3.434537e+06\n",
       "49437    1.880384e+07\n",
       "Name: funding_total_usd, Length: 49438, dtype: float64"
      ]
     },
     "execution_count": 44,
     "metadata": {},
     "output_type": "execute_result"
    }
   ],
   "source": [
    "df.groupby(['city'])['funding_total_usd'].apply(lambda x:x - np.mean(x))"
   ]
  },
  {
   "cell_type": "code",
   "execution_count": 45,
   "metadata": {},
   "outputs": [
    {
     "data": {
      "text/plain": [
       "city\n",
       "'s-hertogenbosch    0.000000e+00\n",
       "6 October City      1.450000e+05\n",
       "A Coruña            1.236930e+06\n",
       "Aachen              6.448845e+06\n",
       "Aalborg             1.166667e+05\n",
       "                        ...     \n",
       "Évora               0.000000e+00\n",
       "Évry                2.212513e+05\n",
       "Ísafjörður          4.000000e+06\n",
       "Örnsköldsvik        0.000000e+00\n",
       "Østerby Havn        8.550000e+05\n",
       "Name: funding_total_usd, Length: 4189, dtype: float64"
      ]
     },
     "execution_count": 45,
     "metadata": {},
     "output_type": "execute_result"
    }
   ],
   "source": [
    "# 20.What is average ‘funding_Total_used’ for each city?\n",
    "df.groupby('city')['funding_total_usd'].mean()"
   ]
  },
  {
   "cell_type": "code",
   "execution_count": 46,
   "metadata": {},
   "outputs": [],
   "source": [
    "## compare the size of the objects returned by \n",
    "# 1) aggreagation operation\n",
    "# 2) transformation/apply operation"
   ]
  },
  {
   "cell_type": "code",
   "execution_count": 47,
   "metadata": {},
   "outputs": [
    {
     "data": {
      "image/png": "[encoded data removed]",
      "text/plain": [
       "<Figure size 432x288 with 2 Axes>"
      ]
     },
     "metadata": {
      "needs_background": "light"
     },
     "output_type": "display_data"
    }
   ],
   "source": [
    "# 21.Plot histogram/distribution of ‘funding_total_usd’ and provide insights if any.\n",
    "import seaborn as sns\n",
    "fig, ax = plt.subplots(1, 2,)\n",
    "ax[0].hist(df.funding_total_usd)\n",
    "sns.distplot(df.funding_total_usd,ax = ax[1])\n",
    "plt.title('Distplot')\n",
    "plt.show()"
   ]
  },
  {
   "cell_type": "code",
   "execution_count": 48,
   "metadata": {},
   "outputs": [
    {
     "data": {
      "image/png": "[encoded data removed]",
      "text/plain": [
       "<Figure size 432x288 with 2 Axes>"
      ]
     },
     "metadata": {
      "needs_background": "light"
     },
     "output_type": "display_data"
    }
   ],
   "source": [
    "import seaborn as sns\n",
    "fig, ax = plt.subplots(1, 2,)\n",
    "ax[0].hist(np.log1p(df.funding_total_usd))\n",
    "sns.distplot(np.log1p(df.funding_total_usd),ax = ax[1])\n",
    "plt.title('Distplot')\n",
    "plt.show()"
   ]
  },
  {
   "cell_type": "code",
   "execution_count": 49,
   "metadata": {},
   "outputs": [
    {
     "data": {
      "text/plain": [
       "status\n",
       "acquired     5.700000e+09\n",
       "closed       1.567504e+09\n",
       "operating    3.007950e+10\n",
       "Name: funding_total_usd, dtype: float64"
      ]
     },
     "execution_count": 49,
     "metadata": {},
     "output_type": "execute_result"
    }
   ],
   "source": [
    "# 22.What is maximum ‘funding_total_usd’ for each market status?\n",
    "df.groupby('status')['funding_total_usd'].max()"
   ]
  },
  {
   "cell_type": "code",
   "execution_count": 50,
   "metadata": {},
   "outputs": [
    {
     "data": {
      "text/plain": [
       "0         8.0\n",
       "1         NaN\n",
       "2         8.0\n",
       "3         9.0\n",
       "4         6.0\n",
       "         ... \n",
       "49433     7.0\n",
       "49434     NaN\n",
       "49435     8.0\n",
       "49436     NaN\n",
       "49437    21.0\n",
       "Name: founded_year, Length: 49438, dtype: float64"
      ]
     },
     "execution_count": 50,
     "metadata": {},
     "output_type": "execute_result"
    }
   ],
   "source": [
    "# 23.How many years it have been since each company was founded?\n",
    "2020 - df.founded_year"
   ]
  },
  {
   "cell_type": "code",
   "execution_count": 51,
   "metadata": {},
   "outputs": [
    {
     "data": {
      "text/plain": [
       "0         8.0\n",
       "1         NaN\n",
       "2         8.0\n",
       "3         9.0\n",
       "4         6.0\n",
       "         ... \n",
       "49433     7.0\n",
       "49434     NaN\n",
       "49435     8.0\n",
       "49436     NaN\n",
       "49437    21.0\n",
       "Name: founded_year, Length: 49438, dtype: float64"
      ]
     },
     "execution_count": 51,
     "metadata": {},
     "output_type": "execute_result"
    }
   ],
   "source": [
    "from datetime import date\n",
    "date.today().year - df.founded_year"
   ]
  },
  {
   "cell_type": "code",
   "execution_count": 52,
   "metadata": {},
   "outputs": [
    {
     "data": {
      "text/plain": [
       "<matplotlib.axes._subplots.AxesSubplot at 0x1a1dcb6190>"
      ]
     },
     "execution_count": 52,
     "metadata": {},
     "output_type": "execute_result"
    },
    {
     "data": {
      "image/png": "[encoded data removed]",
      "text/plain": [
       "<Figure size 432x288 with 1 Axes>"
      ]
     },
     "metadata": {
      "needs_background": "light"
     },
     "output_type": "display_data"
    }
   ],
   "source": [
    "# 24.Visualize ‘grant’ distribution.\n",
    "sns.distplot(df.grant)"
   ]
  },
  {
   "cell_type": "code",
   "execution_count": 53,
   "metadata": {},
   "outputs": [
    {
     "data": {
      "text/plain": [
       "<matplotlib.axes._subplots.AxesSubplot at 0x1a1dd18cd0>"
      ]
     },
     "execution_count": 53,
     "metadata": {},
     "output_type": "execute_result"
    },
    {
     "data": {
      "image/png": "[encoded data removed]",
      "text/plain": [
       "<Figure size 432x288 with 1 Axes>"
      ]
     },
     "metadata": {
      "needs_background": "light"
     },
     "output_type": "display_data"
    }
   ],
   "source": [
    "sns.distplot(np.log1p(df.grant))"
   ]
  },
  {
   "cell_type": "code",
   "execution_count": 54,
   "metadata": {},
   "outputs": [
    {
     "data": {
      "text/plain": [
       "<matplotlib.axes._subplots.AxesSubplot at 0x1a1e10f810>"
      ]
     },
     "execution_count": 54,
     "metadata": {},
     "output_type": "execute_result"
    },
    {
     "data": {
      "image/png": "[encoded data removed]",
      "text/plain": [
       "<Figure size 432x288 with 1 Axes>"
      ]
     },
     "metadata": {
      "needs_background": "light"
     },
     "output_type": "display_data"
    }
   ],
   "source": [
    "# 25.Visualize ‘debt_financing’ distribution.\n",
    "sns.distplot(np.log1p(df.debt_financing))"
   ]
  },
  {
   "cell_type": "code",
   "execution_count": null,
   "metadata": {},
   "outputs": [],
   "source": []
  }
 ],
 "metadata": {
  "kernelspec": {
   "display_name": "Python 3",
   "language": "python",
   "name": "python3"
  },
  "language_info": {
   "codemirror_mode": {
    "name": "ipython",
    "version": 3
   },
   "file_extension": ".py",
   "mimetype": "text/x-python",
   "name": "python",
   "nbconvert_exporter": "python",
   "pygments_lexer": "ipython3",
   "version": "3.7.6"
  }
 },
 "nbformat": 4,
 "nbformat_minor": 2
}
